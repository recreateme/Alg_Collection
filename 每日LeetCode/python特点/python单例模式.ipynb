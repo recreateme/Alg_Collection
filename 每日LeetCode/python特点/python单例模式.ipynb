{
 "cells": [
  {
   "cell_type": "markdown",
   "source": [
    "## 1. __new__方法"
   ],
   "metadata": {
    "collapsed": false
   },
   "id": "67271b18bbdb17dd"
  },
  {
   "cell_type": "code",
   "execution_count": null,
   "id": "initial_id",
   "metadata": {
    "collapsed": true
   },
   "outputs": [],
   "source": [
    "class Singleton:\n",
    "    _instance = None\n",
    "    def __new__(cls, *args, **kwargs):\n",
    "        if not cls._instance:\n",
    "            cls._instance = super().__new__(cls, *args, **kwargs)\n",
    "        return cls._instance\n",
    "\n",
    "obj1 = Singleton()\n",
    "obj2 = Singleton()\n",
    "print(obj1 is obj2)  # True"
   ]
  },
  {
   "cell_type": "markdown",
   "source": [
    "## 2. 装饰器"
   ],
   "metadata": {
    "collapsed": false
   },
   "id": "f56757206fde36fc"
  },
  {
   "cell_type": "code",
   "outputs": [],
   "source": [
    "def singleton(cls):\n",
    "    _instances = {}\n",
    "    def wrapper(*args, **kwargs):\n",
    "        if cls not in _instances:\n",
    "            _instances[cls] = cls(*args, **kwargs)\n",
    "        return _instances[cls]\n",
    "    return wrapper\n",
    "\n",
    "@singleton\n",
    "class SingletonClass:\n",
    "    pass\n",
    "\n",
    "obj1 = SingletonClass()\n",
    "obj2 = SingletonClass()\n",
    "print(obj1 is obj2)  # True"
   ],
   "metadata": {
    "collapsed": false
   },
   "id": "a4b4fe4bdaad4aba"
  },
  {
   "cell_type": "markdown",
   "source": [
    "## 3. metaclass"
   ],
   "metadata": {
    "collapsed": false
   },
   "id": "c816b26a569c1448"
  },
  {
   "cell_type": "code",
   "outputs": [],
   "source": [
    "class SingletonMeta(type):\n",
    "    _instances = {}\n",
    "    def __call__(cls, *args, **kwargs):\n",
    "        if cls not in cls._instances:\n",
    "            cls._instances[cls] = super().__call__(*args, **kwargs)\n",
    "        return cls._instances[cls]\n",
    "\n",
    "class Singleton(metaclass=SingletonMeta):\n",
    "    pass\n",
    "\n",
    "obj1 = Singleton()\n",
    "obj2 = Singleton()\n",
    "print(obj1 is obj2)  # True"
   ],
   "metadata": {
    "collapsed": false
   },
   "id": "6e6342eab5d87837"
  },
  {
   "cell_type": "markdown",
   "source": [
    "## 4. 使用模块导入"
   ],
   "metadata": {
    "collapsed": false
   },
   "id": "c6bd15a8e205163f"
  },
  {
   "cell_type": "code",
   "outputs": [],
   "source": [
    "# singleton.py\n",
    "class Singleton:\n",
    "    pass\n",
    "singleton_instance = Singleton()\n",
    "\n",
    "# main.py\n",
    "from singleton import singleton_instance\n",
    "print(singleton_instance)  # 全局唯一实例"
   ],
   "metadata": {
    "collapsed": false
   },
   "id": "830682bcadd13751"
  },
  {
   "cell_type": "markdown",
   "source": [
    "## 5. 懒汉式单例模式"
   ],
   "metadata": {
    "collapsed": false
   },
   "id": "4400e7f249b7bf38"
  },
  {
   "cell_type": "code",
   "outputs": [],
   "source": [
    "class Singleton:\n",
    "    _instance = None\n",
    "    @classmethod\n",
    "    def get_instance(cls):\n",
    "        if not cls._instance:\n",
    "            cls._instance = cls()\n",
    "        return cls._instance\n",
    "\n",
    "obj1 = Singleton.get_instance()\n",
    "obj2 = Singleton.get_instance()\n",
    "print(obj1 is obj2)  # True"
   ],
   "metadata": {
    "collapsed": false
   },
   "id": "e5a0a12325225735"
  },
  {
   "cell_type": "markdown",
   "source": [
    "## 6. 线程安全单例模式（懒汉式）"
   ],
   "metadata": {
    "collapsed": false
   },
   "id": "e67049a5832f049d"
  },
  {
   "cell_type": "code",
   "outputs": [],
   "source": [
    "import threading\n",
    "\n",
    "class Singleton:\n",
    "    _instance = None\n",
    "    _lock = threading.Lock()\n",
    "    @classmethod\n",
    "    def get_instance(cls):\n",
    "        with cls._lock:\n",
    "            if not cls._instance:\n",
    "                cls._instance = cls()\n",
    "        return cls._instance\n",
    "\n",
    "obj1 = Singleton.get_instance()\n",
    "obj2 = Singleton.get_instance()\n",
    "print(obj1 is obj2)  # True"
   ],
   "metadata": {
    "collapsed": false
   },
   "id": "dd707aa6eb020c4"
  }
 ],
 "metadata": {
  "kernelspec": {
   "display_name": "Python 3",
   "language": "python",
   "name": "python3"
  },
  "language_info": {
   "codemirror_mode": {
    "name": "ipython",
    "version": 2
   },
   "file_extension": ".py",
   "mimetype": "text/x-python",
   "name": "python",
   "nbconvert_exporter": "python",
   "pygments_lexer": "ipython2",
   "version": "2.7.6"
  }
 },
 "nbformat": 4,
 "nbformat_minor": 5
}
