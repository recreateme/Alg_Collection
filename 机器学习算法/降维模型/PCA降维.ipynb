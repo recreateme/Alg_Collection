{
 "cells": [
  {
   "cell_type": "markdown",
   "source": [
    "# PCA（主成分分析（PCA - Principal Component Analysis）\n",
    "原理：PCA 是一种无监督的线性降维方法，它通过对数据协方差矩阵进行特征分解，找到数据的主要成分（即特征向量），这些成分按照方差从大到小排列，方差越大表示该成分包含的数据信息越多。然后选择前 \n",
    "k个主成分来近似表示原始数据，实现降维。\n",
    "应用场景：广泛应用于数据可视化、去除噪声、数据压缩等。例如在图像识别中，对图像数据进行 PCA 降维可以减少计算量，同时保留图像的主要特征。"
   ],
   "metadata": {
    "collapsed": false
   },
   "id": "36a082ed6efa3cdc"
  },
  {
   "cell_type": "code",
   "outputs": [
    {
     "name": "stdout",
     "output_type": "stream",
     "text": [
      "(100, 2)\n"
     ]
    }
   ],
   "source": [
    "from sklearn.decomposition import PCA\n",
    "import numpy as np\n",
    "\n",
    "# 生成示例数据\n",
    "X = np.random.rand(100, 5)\n",
    "\n",
    "# 创建 PCA 模型，设置降维后的维度为 2\n",
    "pca = PCA(n_components=2)\n",
    "\n",
    "# 对数据进行降维\n",
    "X_reduced = pca.fit_transform(X)\n",
    "\n",
    "print(X_reduced.shape)"
   ],
   "metadata": {
    "collapsed": false,
    "ExecuteTime": {
     "end_time": "2025-03-15T15:22:48.805246800Z",
     "start_time": "2025-03-15T15:22:48.795433400Z"
    }
   },
   "id": "838d00b0e1afd9a7",
   "execution_count": 2
  }
 ],
 "metadata": {
  "kernelspec": {
   "display_name": "Python 3",
   "language": "python",
   "name": "python3"
  },
  "language_info": {
   "codemirror_mode": {
    "name": "ipython",
    "version": 2
   },
   "file_extension": ".py",
   "mimetype": "text/x-python",
   "name": "python",
   "nbconvert_exporter": "python",
   "pygments_lexer": "ipython2",
   "version": "2.7.6"
  }
 },
 "nbformat": 4,
 "nbformat_minor": 5
}
