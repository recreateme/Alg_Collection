{
 "cells": [
  {
   "cell_type": "markdown",
   "source": [
    "Kernel PCA 是 PCA 的扩展，它通过核函数将原始数据映射到高维特征空间，然后在高维空间中进行 PCA 操作。\n",
    "这样可以处理非线性数据，找到非线性的主成分。常见的核函数有径向基核函数（RBF）、多项式核函数等。"
   ],
   "metadata": {
    "collapsed": false
   },
   "id": "5ac8a8de67896bb0"
  },
  {
   "cell_type": "code",
   "execution_count": 1,
   "id": "initial_id",
   "metadata": {
    "collapsed": true,
    "ExecuteTime": {
     "end_time": "2025-03-15T15:25:20.042341800Z",
     "start_time": "2025-03-15T15:25:18.447900700Z"
    }
   },
   "outputs": [
    {
     "name": "stdout",
     "output_type": "stream",
     "text": [
      "(100, 2)\n"
     ]
    }
   ],
   "source": [
    "from sklearn.decomposition import KernelPCA\n",
    "import numpy as np\n",
    "\n",
    "# 生成示例数据\n",
    "X = np.random.rand(100, 5)\n",
    "\n",
    "# 创建 Kernel PCA 模型，设置核函数为 rbf，降维后的维度为 2\n",
    "kpca = KernelPCA(n_components=2, kernel='rbf')\n",
    "\n",
    "# 对数据进行降维\n",
    "X_reduced = kpca.fit_transform(X)\n",
    "\n",
    "print(X_reduced.shape)"
   ]
  }
 ],
 "metadata": {
  "kernelspec": {
   "display_name": "Python 3",
   "language": "python",
   "name": "python3"
  },
  "language_info": {
   "codemirror_mode": {
    "name": "ipython",
    "version": 2
   },
   "file_extension": ".py",
   "mimetype": "text/x-python",
   "name": "python",
   "nbconvert_exporter": "python",
   "pygments_lexer": "ipython2",
   "version": "2.7.6"
  }
 },
 "nbformat": 4,
 "nbformat_minor": 5
}
