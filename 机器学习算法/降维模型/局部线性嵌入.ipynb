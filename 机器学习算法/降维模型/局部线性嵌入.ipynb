{
 "cells": [
  {
   "cell_type": "markdown",
   "source": [
    "# 局部线性嵌入（LLE - Locally Linear Embedding）\n",
    "原理：LLE 是一种无监督的非线性降维方法，它假设每个数据点都可以由其邻域内的少数几个点线性表示。LLE 首先计算每个数据点的局部线性重构系数，然后在低维空间中寻找一个新的表示，使得重构系数保持不变。\n",
    "应用场景：常用于流形学习，发现数据的内在低维结构。例如在手写数字识别中，LLE 可以将高维的数字图像数据映射到低维空间，揭示数字的本质特征。"
   ],
   "metadata": {
    "collapsed": false
   },
   "id": "78ec618ec11f8ff3"
  },
  {
   "cell_type": "code",
   "outputs": [
    {
     "name": "stdout",
     "output_type": "stream",
     "text": [
      "(100, 2)\n"
     ]
    }
   ],
   "source": [
    "from sklearn.manifold import LocallyLinearEmbedding\n",
    "import numpy as np\n",
    "\n",
    "# 生成示例数据\n",
    "X = np.random.rand(100, 5)\n",
    "\n",
    "# 创建 LLE 模型，设置降维后的维度为 2\n",
    "lle = LocallyLinearEmbedding(n_components=2)\n",
    "\n",
    "# 对数据进行降维\n",
    "X_reduced = lle.fit_transform(X)\n",
    "\n",
    "print(X_reduced.shape)"
   ],
   "metadata": {
    "collapsed": false,
    "ExecuteTime": {
     "end_time": "2025-03-15T15:26:43.459042600Z",
     "start_time": "2025-03-15T15:26:42.111298300Z"
    }
   },
   "id": "fd281fd1b74a7b87",
   "execution_count": 1
  }
 ],
 "metadata": {
  "kernelspec": {
   "display_name": "Python 3",
   "language": "python",
   "name": "python3"
  },
  "language_info": {
   "codemirror_mode": {
    "name": "ipython",
    "version": 2
   },
   "file_extension": ".py",
   "mimetype": "text/x-python",
   "name": "python",
   "nbconvert_exporter": "python",
   "pygments_lexer": "ipython2",
   "version": "2.7.6"
  }
 },
 "nbformat": 4,
 "nbformat_minor": 5
}
