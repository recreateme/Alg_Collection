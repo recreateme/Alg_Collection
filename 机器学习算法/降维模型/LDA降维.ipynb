{
 "cells": [
  {
   "cell_type": "markdown",
   "source": [
    "# LDA降维(linear discriminant analysis, LDA)\n",
    "原理：LDA是一种监督降维方法，其思想是：通过寻找一个超平面，使得同类样本的方差最大，不同类样本的方差最小，从而达到降维的目的。"
   ],
   "metadata": {
    "collapsed": false
   },
   "id": "da61068bee62d07a"
  },
  {
   "cell_type": "code",
   "execution_count": 1,
   "id": "initial_id",
   "metadata": {
    "collapsed": true,
    "ExecuteTime": {
     "end_time": "2025-03-15T15:24:12.613532500Z",
     "start_time": "2025-03-15T15:24:11.263782600Z"
    }
   },
   "outputs": [
    {
     "name": "stdout",
     "output_type": "stream",
     "text": [
      "(100, 1)\n"
     ]
    }
   ],
   "source": [
    "from sklearn.discriminant_analysis import LinearDiscriminantAnalysis\n",
    "import numpy as np\n",
    "\n",
    "# 生成示例数据\n",
    "X = np.random.rand(100, 5)\n",
    "y = np.random.randint(0, 2, 100)\n",
    "\n",
    "# 创建 LDA 模型，设置降维后的维度为 1\n",
    "lda = LinearDiscriminantAnalysis(n_components=1)\n",
    "\n",
    "# 对数据进行降维\n",
    "X_reduced = lda.fit_transform(X, y)\n",
    "\n",
    "print(X_reduced.shape)"
   ]
  }
 ],
 "metadata": {
  "kernelspec": {
   "display_name": "Python 3",
   "language": "python",
   "name": "python3"
  },
  "language_info": {
   "codemirror_mode": {
    "name": "ipython",
    "version": 2
   },
   "file_extension": ".py",
   "mimetype": "text/x-python",
   "name": "python",
   "nbconvert_exporter": "python",
   "pygments_lexer": "ipython2",
   "version": "2.7.6"
  }
 },
 "nbformat": 4,
 "nbformat_minor": 5
}
