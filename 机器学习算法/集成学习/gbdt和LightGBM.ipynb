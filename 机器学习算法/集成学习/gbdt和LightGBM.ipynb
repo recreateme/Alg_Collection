{
 "cells": [
  {
   "cell_type": "markdown",
   "source": [
    "## 梯度提升GBDT"
   ],
   "metadata": {
    "collapsed": false
   },
   "id": "b1a1b12565c94343"
  },
  {
   "cell_type": "markdown",
   "source": [
    "1 分类任务"
   ],
   "metadata": {
    "collapsed": false
   },
   "id": "1dd181d4c64256dc"
  },
  {
   "cell_type": "code",
   "execution_count": 1,
   "id": "initial_id",
   "metadata": {
    "collapsed": true,
    "ExecuteTime": {
     "end_time": "2025-03-14T08:00:53.460047200Z",
     "start_time": "2025-03-14T08:00:51.740530700Z"
    }
   },
   "outputs": [
    {
     "name": "stdout",
     "output_type": "stream",
     "text": [
      "GBDT 分类器的准确率: 0.96\n"
     ]
    }
   ],
   "source": [
    "from sklearn.datasets import make_classification\n",
    "from sklearn.ensemble import GradientBoostingClassifier\n",
    "from sklearn.model_selection import train_test_split\n",
    "from sklearn.metrics import accuracy_score\n",
    "\n",
    "# 生成示例分类数据集\n",
    "X, y = make_classification(n_samples=1000, n_features=10, n_informative=5, n_classes=2, random_state=42)\n",
    "\n",
    "# 划分训练集和测试集\n",
    "X_train, X_test, y_train, y_test = train_test_split(X, y, test_size=0.2, random_state=42)\n",
    "\n",
    "# 创建 GradientBoostingClassifier 实例\n",
    "gb_classifier = GradientBoostingClassifier(n_estimators=100, learning_rate=0.1, max_depth=3, random_state=42)\n",
    "\n",
    "# 训练模型\n",
    "gb_classifier.fit(X_train, y_train)\n",
    "\n",
    "# 在测试集上进行预测\n",
    "y_pred = gb_classifier.predict(X_test)\n",
    "\n",
    "# 计算准确率\n",
    "accuracy = accuracy_score(y_test, y_pred)\n",
    "print(f\"GBDT 分类器的准确率: {accuracy:.2f}\")"
   ]
  },
  {
   "cell_type": "markdown",
   "source": [
    "2 回归任务"
   ],
   "metadata": {
    "collapsed": false
   },
   "id": "c66489650d6517f0"
  },
  {
   "cell_type": "code",
   "outputs": [
    {
     "name": "stdout",
     "output_type": "stream",
     "text": [
      "GBDT 回归器的均方误差: 59.86\n"
     ]
    }
   ],
   "source": [
    "from sklearn.datasets import make_regression\n",
    "from sklearn.ensemble import GradientBoostingRegressor\n",
    "from sklearn.model_selection import train_test_split\n",
    "from sklearn.metrics import mean_squared_error\n",
    "\n",
    "# 生成示例回归数据集\n",
    "X, y = make_regression(n_samples=1000, n_features=10, n_informative=5, random_state=42)\n",
    "\n",
    "# 划分训练集和测试集\n",
    "X_train, X_test, y_train, y_test = train_test_split(X, y, test_size=0.2, random_state=42)\n",
    "\n",
    "# 创建 GradientBoostingRegressor 实例\n",
    "gb_regressor = GradientBoostingRegressor(n_estimators=100, learning_rate=0.1, max_depth=3, random_state=42)\n",
    "\n",
    "# 训练模型\n",
    "gb_regressor.fit(X_train, y_train)\n",
    "\n",
    "# 在测试集上进行预测\n",
    "y_pred = gb_regressor.predict(X_test)\n",
    "\n",
    "# 计算均方误差\n",
    "mse = mean_squared_error(y_test, y_pred)\n",
    "print(f\"GBDT 回归器的均方误差: {mse:.2f}\")"
   ],
   "metadata": {
    "collapsed": false,
    "ExecuteTime": {
     "end_time": "2025-03-14T08:01:33.068995700Z",
     "start_time": "2025-03-14T08:01:32.801038500Z"
    }
   },
   "id": "922b025e27137831",
   "execution_count": 2
  },
  {
   "cell_type": "markdown",
   "source": [
    "## lightGBM"
   ],
   "metadata": {
    "collapsed": false
   },
   "id": "6d6b22864ebd42fd"
  },
  {
   "cell_type": "markdown",
   "source": [
    "1 分类任务"
   ],
   "metadata": {
    "collapsed": false
   },
   "id": "c4ab9da6cc7835e2"
  },
  {
   "cell_type": "code",
   "outputs": [
    {
     "name": "stdout",
     "output_type": "stream",
     "text": [
      "Accuracy: 0.9737\n",
      "Classification Report:\n",
      "              precision    recall  f1-score   support\n",
      "\n",
      "           0       0.98      0.95      0.96        43\n",
      "           1       0.97      0.99      0.98        71\n",
      "\n",
      "    accuracy                           0.97       114\n",
      "   macro avg       0.97      0.97      0.97       114\n",
      "weighted avg       0.97      0.97      0.97       114\n"
     ]
    }
   ],
   "source": [
    "import lightgbm as lgb\n",
    "from sklearn.datasets import load_breast_cancer\n",
    "from sklearn.model_selection import train_test_split\n",
    "from sklearn.metrics import accuracy_score, classification_report\n",
    "\n",
    "# 1. 加载数据集\n",
    "data = load_breast_cancer()\n",
    "X = data.data\n",
    "y = data.target\n",
    "\n",
    "# 2. 划分训练集和测试集\n",
    "X_train, X_test, y_train, y_test = train_test_split(X, y, test_size=0.2, random_state=42)\n",
    "\n",
    "# 3. 创建 LightGBM 数据集\n",
    "train_data = lgb.Dataset(X_train, label=y_train)\n",
    "test_data = lgb.Dataset(X_test, label=y_test)\n",
    "\n",
    "# 4. 设置参数\n",
    "params = {\n",
    "    'objective': 'binary',  # 二分类任务\n",
    "    'metric': 'binary_logloss',  # 评估指标，使用二元对数损失\n",
    "    'num_leaves': 31,  # 树的最大叶子节点数\n",
    "    'learning_rate': 0.05,  # 学习率\n",
    "    'feature_fraction': 0.9,  # 特征采样比例\n",
    "    'bagging_fraction': 0.8,  # 数据采样比例\n",
    "    'bagging_freq': 5,  # 每 5 次迭代进行一次数据采样\n",
    "    'verbose': -1  # 不显示详细信息\n",
    "}\n",
    "\n",
    "# 5. 训练模型\n",
    "num_round = 100\n",
    "model = lgb.train(params, train_data, num_round, valid_sets=[test_data])\n",
    "\n",
    "# 6. 预测\n",
    "y_pred = model.predict(X_test)\n",
    "y_pred_binary = [1 if pred > 0.5 else 0 for pred in y_pred]\n",
    "\n",
    "# 7. 评估模型\n",
    "accuracy = accuracy_score(y_test, y_pred_binary)\n",
    "print(f\"Accuracy: {accuracy:.4f}\")\n",
    "print(\"Classification Report:\")\n",
    "print(classification_report(y_test, y_pred_binary))"
   ],
   "metadata": {
    "collapsed": false,
    "ExecuteTime": {
     "end_time": "2025-03-14T08:02:51.476581500Z",
     "start_time": "2025-03-14T08:02:51.383544600Z"
    }
   },
   "id": "d42bf3f6c364ef9a",
   "execution_count": 4
  },
  {
   "cell_type": "markdown",
   "source": [],
   "metadata": {
    "collapsed": false
   },
   "id": "4f755631dea005a1"
  },
  {
   "cell_type": "markdown",
   "source": [
    "2 回归任务"
   ],
   "metadata": {
    "collapsed": false
   },
   "id": "d84b7ac383f824b2"
  },
  {
   "cell_type": "code",
   "outputs": [
    {
     "name": "stdout",
     "output_type": "stream",
     "text": [
      "Mean Squared Error: 121.2054\n"
     ]
    }
   ],
   "source": [
    "import lightgbm as lgb\n",
    "from sklearn.datasets import make_regression\n",
    "from sklearn.model_selection import train_test_split\n",
    "from sklearn.metrics import mean_squared_error\n",
    "\n",
    "# 1. 生成回归数据集\n",
    "X, y = make_regression(n_samples=1000, n_features=10, n_informative=5, noise=0.1, random_state=42)\n",
    "\n",
    "# 2. 划分训练集和测试集\n",
    "X_train, X_test, y_train, y_test = train_test_split(X, y, test_size=0.2, random_state=42)\n",
    "\n",
    "# 3. 创建 LightGBM 数据集\n",
    "train_data = lgb.Dataset(X_train, label=y_train)\n",
    "test_data = lgb.Dataset(X_test, label=y_test)\n",
    "\n",
    "# 4. 设置参数\n",
    "params = {\n",
    "    'objective': 'regression',  # 回归任务\n",
    "    'metric': 'mse',  # 评估指标，使用均方误差\n",
    "    'num_leaves': 31,  # 树的最大叶子节点数\n",
    "    'learning_rate': 0.05,  # 学习率\n",
    "    'feature_fraction': 0.9,  # 特征采样比例\n",
    "    'bagging_fraction': 0.8,  # 数据采样比例\n",
    "    'bagging_freq': 5,  # 每 5 次迭代进行一次数据采样\n",
    "    'verbose': -1  # 不显示详细信息\n",
    "}\n",
    "\n",
    "# 5. 训练模型\n",
    "num_round = 100\n",
    "model = lgb.train(params, train_data, num_round, valid_sets=[test_data])\n",
    "\n",
    "# 6. 预测\n",
    "y_pred = model.predict(X_test)\n",
    "\n",
    "# 7. 评估模型\n",
    "mse = mean_squared_error(y_test, y_pred)\n",
    "print(f\"Mean Squared Error: {mse:.4f}\")"
   ],
   "metadata": {
    "collapsed": false,
    "ExecuteTime": {
     "end_time": "2025-03-14T08:03:14.429355100Z",
     "start_time": "2025-03-14T08:03:14.363177800Z"
    }
   },
   "id": "d1e06e4bbd20ad61",
   "execution_count": 6
  }
 ],
 "metadata": {
  "kernelspec": {
   "display_name": "Python 3",
   "language": "python",
   "name": "python3"
  },
  "language_info": {
   "codemirror_mode": {
    "name": "ipython",
    "version": 2
   },
   "file_extension": ".py",
   "mimetype": "text/x-python",
   "name": "python",
   "nbconvert_exporter": "python",
   "pygments_lexer": "ipython2",
   "version": "2.7.6"
  }
 },
 "nbformat": 4,
 "nbformat_minor": 5
}
