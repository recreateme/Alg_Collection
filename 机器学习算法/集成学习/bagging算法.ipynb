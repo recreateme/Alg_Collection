{
 "cells": [
  {
   "cell_type": "markdown",
   "source": [
    "# Bagging算法\n",
    "#### Bagging 的核心思想是通过自助采样（有放回采样）从原始数据集中生成多个子集，然后在每个子集上独立训练一个基学习器，最后将这些基学习器的预测结果进行综合（分类任务通常采用投票法，回归任务通常采用平均法）。通过并行训练多个基学习器并聚合结果，减少模型过拟合风险"
   ],
   "metadata": {
    "collapsed": false
   },
   "id": "ce039acce4b6e6a1"
  },
  {
   "cell_type": "markdown",
   "source": [
    "## 1 bagging用于分类"
   ],
   "metadata": {
    "collapsed": false
   },
   "id": "ab6acc2493e1211b"
  },
  {
   "cell_type": "code",
   "execution_count": 5,
   "id": "initial_id",
   "metadata": {
    "collapsed": true,
    "ExecuteTime": {
     "end_time": "2025-03-14T07:11:42.136176500Z",
     "start_time": "2025-03-14T07:11:41.961692800Z"
    }
   },
   "outputs": [
    {
     "name": "stdout",
     "output_type": "stream",
     "text": [
      "(178, 13) (178,)\n",
      "准确率: 0.9630\n"
     ]
    }
   ],
   "source": [
    "from sklearn.ensemble import BaggingClassifier\n",
    "from sklearn.tree import DecisionTreeClassifier\n",
    "from sklearn.datasets import load_wine\n",
    "from sklearn.model_selection import train_test_split\n",
    "from sklearn.metrics import accuracy_score\n",
    "\n",
    "# 加载数据\n",
    "wine = load_wine()\n",
    "\n",
    "X, y = wine.data, wine.target\n",
    "# 打印数据信息\n",
    "print(X.shape, y.shape)\n",
    "# 划分训练集与测试集\n",
    "X_train, X_test, y_train, y_test = train_test_split(X, y, test_size=0.3, random_state=42)\n",
    "\n",
    "# 创建Bagging分类器（基模型为决策树）\n",
    "bag_clf = BaggingClassifier(\n",
    "    DecisionTreeClassifier(max_depth=3),    \n",
    "    n_estimators=100,\n",
    "    max_samples=0.8,\n",
    "    bootstrap=True,\n",
    "    random_state=42\n",
    ")\n",
    "\n",
    "# 训练与评估\n",
    "bag_clf.fit(X_train, y_train)\n",
    "y_pred = bag_clf.predict(X_test)\n",
    "print(f\"准确率: {accuracy_score(y_test, y_pred):.4f}\")"
   ]
  },
  {
   "cell_type": "markdown",
   "source": [
    "## 2 bagging用于回归"
   ],
   "metadata": {
    "collapsed": false
   },
   "id": "733169e63a9fa55f"
  },
  {
   "cell_type": "code",
   "outputs": [
    {
     "name": "stdout",
     "output_type": "stream",
     "text": [
      "均方误差: 2761.5917\n"
     ]
    }
   ],
   "source": [
    "from sklearn.ensemble import BaggingRegressor\n",
    "from sklearn.tree import DecisionTreeRegressor\n",
    "from sklearn.datasets import load_diabetes\n",
    "from sklearn.metrics import mean_squared_error\n",
    "\n",
    "# 加载数据\n",
    "diabetes = load_diabetes()\n",
    "X, y = diabetes.data, diabetes.target\n",
    "X_train, X_test, y_train, y_test = train_test_split(X, y, test_size=0.3, random_state=42)\n",
    "\n",
    "# 创建Bagging回归器\n",
    "bag_reg = BaggingRegressor(\n",
    "    DecisionTreeRegressor(),\n",
    "    n_estimators=50,\n",
    "    max_samples=0.7,\n",
    "    bootstrap_features=True,\n",
    "    random_state=42\n",
    ")\n",
    "\n",
    "# 训练与评估\n",
    "bag_reg.fit(X_train, y_train)\n",
    "y_pred = bag_reg.predict(X_test)\n",
    "print(f\"均方误差: {mean_squared_error(y_test, y_pred):.4f}\")"
   ],
   "metadata": {
    "collapsed": false,
    "ExecuteTime": {
     "end_time": "2025-03-14T07:13:21.007242600Z",
     "start_time": "2025-03-14T07:13:20.854882700Z"
    }
   },
   "id": "d8d4ac7895e79cb6",
   "execution_count": 6
  },
  {
   "cell_type": "markdown",
   "source": [
    "## 3 查看单个决策树"
   ],
   "metadata": {
    "collapsed": false
   },
   "id": "c4e06d2057c656cb"
  },
  {
   "cell_type": "code",
   "outputs": [
    {
     "name": "stdout",
     "output_type": "stream",
     "text": [
      "均方误差: 5718.3759\n"
     ]
    }
   ],
   "source": [
    "from sklearn.tree import DecisionTreeRegressor\n",
    "from sklearn.datasets import load_diabetes\n",
    "from sklearn.metrics import mean_squared_error\n",
    "\n",
    "# 加载数据\n",
    "diabetes = load_diabetes()\n",
    "X, y = diabetes.data, diabetes.target\n",
    "X_train, X_test, y_train, y_test = train_test_split(X, y, test_size=0.3, random_state=42)\n",
    "\n",
    "decision_tree = DecisionTreeRegressor()\n",
    "decision_tree.fit(X_train, y_train)\n",
    "y_pred = decision_tree.predict(X_test)\n",
    "print(f\"均方误差: {mean_squared_error(y_test, y_pred):.4f}\")"
   ],
   "metadata": {
    "collapsed": false,
    "ExecuteTime": {
     "end_time": "2025-03-14T07:20:32.730737800Z",
     "start_time": "2025-03-14T07:20:32.709301200Z"
    }
   },
   "id": "f723b0d0943179e4",
   "execution_count": 8
  },
  {
   "cell_type": "markdown",
   "source": [],
   "metadata": {
    "collapsed": false
   },
   "id": "38e20c661ee20893"
  }
 ],
 "metadata": {
  "kernelspec": {
   "display_name": "Python 3",
   "language": "python",
   "name": "python3"
  },
  "language_info": {
   "codemirror_mode": {
    "name": "ipython",
    "version": 2
   },
   "file_extension": ".py",
   "mimetype": "text/x-python",
   "name": "python",
   "nbconvert_exporter": "python",
   "pygments_lexer": "ipython2",
   "version": "2.7.6"
  }
 },
 "nbformat": 4,
 "nbformat_minor": 5
}
