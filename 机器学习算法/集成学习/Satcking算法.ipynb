{
 "cells": [
  {
   "cell_type": "markdown",
   "source": [
    "# Stacking算法\n",
    "Stacking 的基本思想是将多个不同的基学习器的预测结果作为新的特征，再训练一个元学习器来综合这些基学习器的信息，从而得到最终的预测结果，与深度学习中的特征融合(Feature Fusion)和混合专家模型(Mixture of Experts, MoE) 最为接近。"
   ],
   "metadata": {
    "collapsed": false
   },
   "id": "8dc283872d01dad1"
  },
  {
   "cell_type": "markdown",
   "source": [
    "## iris分类任务"
   ],
   "metadata": {
    "collapsed": false
   },
   "id": "61f7fb3cd49f9f9a"
  },
  {
   "cell_type": "code",
   "execution_count": 5,
   "id": "initial_id",
   "metadata": {
    "collapsed": true,
    "ExecuteTime": {
     "end_time": "2025-03-14T07:46:46.048826Z",
     "start_time": "2025-03-14T07:46:45.908034600Z"
    }
   },
   "outputs": [
    {
     "name": "stdout",
     "output_type": "stream",
     "text": [
      "Stacking 分类器的准确率: 0.94\n"
     ]
    }
   ],
   "source": [
    "from sklearn.datasets import make_classification\n",
    "from sklearn.model_selection import train_test_split\n",
    "from sklearn.ensemble import StackingClassifier\n",
    "from sklearn.linear_model import LogisticRegression\n",
    "from sklearn.tree import DecisionTreeClassifier\n",
    "from sklearn.svm import SVC\n",
    "from sklearn.metrics import accuracy_score\n",
    "\n",
    "# 生成示例分类数据集\n",
    "X, y = make_classification(n_samples=1000, n_features=10, n_informative=5, n_classes=2, random_state=42)\n",
    "# 划分训练集和测试集\n",
    "X_train, X_test, y_train, y_test = train_test_split(X, y, test_size=0.2, random_state=42)\n",
    "\n",
    "# 定义基分类器\n",
    "estimators = [\n",
    "    ('dt', DecisionTreeClassifier(random_state=42)),\n",
    "    ('svm', SVC(random_state=42)),\n",
    "    ('lr', LogisticRegression(random_state=42))\n",
    "]\n",
    "\n",
    "# 创建 Stacking 分类器，使用逻辑回归作为元分类器\n",
    "stacking_clf = StackingClassifier(\n",
    "    estimators=estimators,\n",
    "    final_estimator=LogisticRegression(random_state=42)\n",
    ")\n",
    "\n",
    "# 训练 Stacking 分类器\n",
    "stacking_clf.fit(X_train, y_train)\n",
    "\n",
    "# 在测试集上进行预测\n",
    "y_pred = stacking_clf.predict(X_test)\n",
    "\n",
    "# 计算准确率\n",
    "accuracy = accuracy_score(y_test, y_pred)\n",
    "print(f\"Stacking 分类器的准确率: {accuracy:.2f}\")"
   ]
  },
  {
   "cell_type": "markdown",
   "source": [
    "## 回归任务"
   ],
   "metadata": {
    "collapsed": false
   },
   "id": "1a75ef0b3d953c3a"
  },
  {
   "cell_type": "code",
   "outputs": [
    {
     "name": "stdout",
     "output_type": "stream",
     "text": [
      "Stacking 回归器的均方误差: 0.00\n"
     ]
    }
   ],
   "source": [
    "from sklearn.datasets import make_regression\n",
    "from sklearn.model_selection import train_test_split\n",
    "from sklearn.ensemble import StackingRegressor\n",
    "from sklearn.linear_model import LinearRegression\n",
    "from sklearn.tree import DecisionTreeRegressor\n",
    "from sklearn.svm import SVR\n",
    "from sklearn.metrics import mean_squared_error\n",
    "\n",
    "# 生成示例回归数据集\n",
    "X, y = make_regression(n_samples=1000, n_features=10, n_informative=5, random_state=42)\n",
    "\n",
    "# 划分训练集和测试集\n",
    "X_train, X_test, y_train, y_test = train_test_split(X, y, test_size=0.2, random_state=42)\n",
    "\n",
    "# 定义基回归器\n",
    "estimators = [\n",
    "    ('dt', DecisionTreeRegressor(random_state=42)),\n",
    "    ('svr', SVR()),\n",
    "    ('lr', LinearRegression())\n",
    "]\n",
    "\n",
    "# 创建 Stacking 回归器，使用线性回归作为元回归器\n",
    "stacking_reg = StackingRegressor(\n",
    "    estimators=estimators,\n",
    "    final_estimator=LinearRegression()\n",
    ")\n",
    "\n",
    "# 训练 Stacking 回归器\n",
    "stacking_reg.fit(X_train, y_train)\n",
    "\n",
    "# 在测试集上进行预测\n",
    "y_pred = stacking_reg.predict(X_test)\n",
    "\n",
    "# 计算均方误差\n",
    "mse = mean_squared_error(y_test, y_pred)\n",
    "print(f\"Stacking 回归器的均方误差: {mse:.2f}\")"
   ],
   "metadata": {
    "collapsed": false,
    "ExecuteTime": {
     "end_time": "2025-03-14T07:47:44.508872500Z",
     "start_time": "2025-03-14T07:47:44.341761800Z"
    }
   },
   "id": "1d225eb737f70388",
   "execution_count": 6
  }
 ],
 "metadata": {
  "kernelspec": {
   "display_name": "Python 3",
   "language": "python",
   "name": "python3"
  },
  "language_info": {
   "codemirror_mode": {
    "name": "ipython",
    "version": 2
   },
   "file_extension": ".py",
   "mimetype": "text/x-python",
   "name": "python",
   "nbconvert_exporter": "python",
   "pygments_lexer": "ipython2",
   "version": "2.7.6"
  }
 },
 "nbformat": 4,
 "nbformat_minor": 5
}
