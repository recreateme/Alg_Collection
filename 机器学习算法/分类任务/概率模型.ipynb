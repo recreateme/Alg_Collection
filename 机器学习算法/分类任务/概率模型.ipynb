{
 "cells": [
  {
   "cell_type": "markdown",
   "source": [
    "## 高斯朴素贝叶斯（Gaussian Naive Bayes）"
   ],
   "metadata": {
    "collapsed": false
   },
   "id": "75bdbffddfd4333d"
  },
  {
   "cell_type": "code",
   "execution_count": 2,
   "id": "initial_id",
   "metadata": {
    "collapsed": true,
    "ExecuteTime": {
     "end_time": "2025-03-14T08:33:17.383324900Z",
     "start_time": "2025-03-14T08:33:16.038667700Z"
    }
   },
   "outputs": [
    {
     "name": "stdout",
     "output_type": "stream",
     "text": [
      "高斯朴素贝叶斯分类器的准确率: 0.89\n"
     ]
    }
   ],
   "source": [
    "from sklearn.datasets import make_classification\n",
    "from sklearn.model_selection import train_test_split\n",
    "from sklearn.naive_bayes import GaussianNB\n",
    "from sklearn.metrics import accuracy_score\n",
    "\n",
    "# 生成示例分类数据集\n",
    "X, y = make_classification(n_samples=1000, n_features=10, n_informative=5, n_classes=2, random_state=42)\n",
    "\n",
    "# 划分训练集和测试集\n",
    "X_train, X_test, y_train, y_test = train_test_split(X, y, test_size=0.2, random_state=42)\n",
    "\n",
    "# 创建高斯朴素贝叶斯分类器\n",
    "gnb = GaussianNB()\n",
    "\n",
    "# 训练模型\n",
    "gnb.fit(X_train, y_train)\n",
    "\n",
    "# 在测试集上进行预测\n",
    "y_pred = gnb.predict(X_test)\n",
    "\n",
    "# 计算准确率\n",
    "accuracy = accuracy_score(y_test, y_pred)\n",
    "print(f\"高斯朴素贝叶斯分类器的准确率: {accuracy:.2f}\")"
   ]
  },
  {
   "cell_type": "markdown",
   "source": [
    "## 多项式朴素贝叶斯（Multinomial Naive Bayes）"
   ],
   "metadata": {
    "collapsed": false
   },
   "id": "7f9f63d2ae5c976f"
  },
  {
   "cell_type": "code",
   "outputs": [
    {
     "name": "stdout",
     "output_type": "stream",
     "text": [
      "多项式朴素贝叶斯分类器的准确率: 0.65\n"
     ]
    }
   ],
   "source": [
    "from sklearn.datasets import make_classification\n",
    "from sklearn.model_selection import train_test_split\n",
    "from sklearn.naive_bayes import MultinomialNB\n",
    "from sklearn.preprocessing import MinMaxScaler\n",
    "from sklearn.metrics import accuracy_score\n",
    "\n",
    "# 生成示例分类数据集\n",
    "X, y = make_classification(n_samples=1000, n_features=10, n_informative=5, n_classes=2, random_state=42)\n",
    "\n",
    "# 多项式朴素贝叶斯要求特征非负，进行归一化处理\n",
    "scaler = MinMaxScaler()\n",
    "X = scaler.fit_transform(X)\n",
    "\n",
    "# 划分训练集和测试集\n",
    "X_train, X_test, y_train, y_test = train_test_split(X, y, test_size=0.2, random_state=42)\n",
    "\n",
    "# 创建多项式朴素贝叶斯分类器\n",
    "mnb = MultinomialNB()\n",
    "\n",
    "# 训练模型\n",
    "mnb.fit(X_train, y_train)\n",
    "\n",
    "# 在测试集上进行预测\n",
    "y_pred = mnb.predict(X_test)\n",
    "\n",
    "# 计算准确率\n",
    "accuracy = accuracy_score(y_test, y_pred)\n",
    "print(f\"多项式朴素贝叶斯分类器的准确率: {accuracy:.2f}\")"
   ],
   "metadata": {
    "collapsed": false,
    "ExecuteTime": {
     "end_time": "2025-03-14T08:33:32.958339600Z",
     "start_time": "2025-03-14T08:33:32.926746900Z"
    }
   },
   "id": "a75eda7a45d6779b",
   "execution_count": 3
  }
 ],
 "metadata": {
  "kernelspec": {
   "display_name": "Python 3",
   "language": "python",
   "name": "python3"
  },
  "language_info": {
   "codemirror_mode": {
    "name": "ipython",
    "version": 2
   },
   "file_extension": ".py",
   "mimetype": "text/x-python",
   "name": "python",
   "nbconvert_exporter": "python",
   "pygments_lexer": "ipython2",
   "version": "2.7.6"
  }
 },
 "nbformat": 4,
 "nbformat_minor": 5
}
