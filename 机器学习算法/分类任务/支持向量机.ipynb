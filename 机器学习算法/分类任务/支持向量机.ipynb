{
 "cells": [
  {
   "cell_type": "markdown",
   "source": [
    "# 支持向量机（Support Vector Machine, SVM）"
   ],
   "metadata": {
    "collapsed": false
   },
   "id": "6082e0ba8342a09f"
  },
  {
   "cell_type": "markdown",
   "source": [
    "1 线性支持向量机"
   ],
   "metadata": {
    "collapsed": false
   },
   "id": "78059a4b1622d3c4"
  },
  {
   "cell_type": "code",
   "execution_count": 1,
   "id": "initial_id",
   "metadata": {
    "collapsed": true,
    "ExecuteTime": {
     "end_time": "2025-03-14T08:26:11.358290100Z",
     "start_time": "2025-03-14T08:26:09.848704400Z"
    }
   },
   "outputs": [
    {
     "name": "stdout",
     "output_type": "stream",
     "text": [
      "线性支持向量机分类器的准确率: 0.83\n"
     ]
    }
   ],
   "source": [
    "from sklearn.datasets import make_classification\n",
    "from sklearn.model_selection import train_test_split\n",
    "from sklearn.svm import LinearSVC\n",
    "from sklearn.metrics import accuracy_score\n",
    "\n",
    "# 生成示例分类数据集\n",
    "X, y = make_classification(n_samples=1000, n_features=10, n_informative=5, n_classes=2, random_state=42)\n",
    "\n",
    "# 划分训练集和测试集\n",
    "X_train, X_test, y_train, y_test = train_test_split(X, y, test_size=0.2, random_state=42)\n",
    "\n",
    "# 创建线性支持向量机分类器\n",
    "linear_svc = LinearSVC(random_state=42)\n",
    "\n",
    "# 训练模型\n",
    "linear_svc.fit(X_train, y_train)\n",
    "\n",
    "# 在测试集上进行预测\n",
    "y_pred = linear_svc.predict(X_test)\n",
    "\n",
    "# 计算准确率\n",
    "accuracy = accuracy_score(y_test, y_pred)\n",
    "print(f\"线性支持向量机分类器的准确率: {accuracy:.2f}\")"
   ]
  },
  {
   "cell_type": "markdown",
   "source": [
    "# 2 kernel支持向量机"
   ],
   "metadata": {
    "collapsed": false
   },
   "id": "e90e0667d09cbeaf"
  },
  {
   "cell_type": "code",
   "outputs": [
    {
     "name": "stdout",
     "output_type": "stream",
     "text": [
      "核支持向量机（RBF 核）分类器的准确率: 0.92\n"
     ]
    }
   ],
   "source": [
    "from sklearn.datasets import make_classification\n",
    "from sklearn.model_selection import train_test_split\n",
    "from sklearn.svm import SVC\n",
    "from sklearn.metrics import accuracy_score\n",
    "\n",
    "# 生成示例分类数据集\n",
    "X, y = make_classification(n_samples=1000, n_features=10, n_informative=5, n_classes=2, random_state=42)\n",
    "\n",
    "# 划分训练集和测试集\n",
    "X_train, X_test, y_train, y_test = train_test_split(X, y, test_size=0.2, random_state=42)\n",
    "\n",
    "# 创建核支持向量机分类器，使用径向基核函数（RBF）\n",
    "kernel_svc = SVC(kernel='rbf', random_state=42)\n",
    "\n",
    "# 训练模型\n",
    "kernel_svc.fit(X_train, y_train)\n",
    "\n",
    "# 在测试集上进行预测\n",
    "y_pred = kernel_svc.predict(X_test)\n",
    "\n",
    "# 计算准确率\n",
    "accuracy = accuracy_score(y_test, y_pred)\n",
    "print(f\"核支持向量机（RBF 核）分类器的准确率: {accuracy:.2f}\")"
   ],
   "metadata": {
    "collapsed": false,
    "ExecuteTime": {
     "end_time": "2025-03-14T08:27:04.022743800Z",
     "start_time": "2025-03-14T08:27:03.990803200Z"
    }
   },
   "id": "692c1816f868a979",
   "execution_count": 2
  }
 ],
 "metadata": {
  "kernelspec": {
   "display_name": "Python 3",
   "language": "python",
   "name": "python3"
  },
  "language_info": {
   "codemirror_mode": {
    "name": "ipython",
    "version": 2
   },
   "file_extension": ".py",
   "mimetype": "text/x-python",
   "name": "python",
   "nbconvert_exporter": "python",
   "pygments_lexer": "ipython2",
   "version": "2.7.6"
  }
 },
 "nbformat": 4,
 "nbformat_minor": 5
}
