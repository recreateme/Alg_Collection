{
 "cells": [
  {
   "cell_type": "markdown",
   "source": [
    "# 线性分类器"
   ],
   "metadata": {
    "collapsed": false
   },
   "id": "e8b22b958c870b4a"
  },
  {
   "cell_type": "markdown",
   "source": [
    "1 logisitic回归"
   ],
   "metadata": {
    "collapsed": false
   },
   "id": "66cf6e71acfeca8e"
  },
  {
   "cell_type": "code",
   "execution_count": 1,
   "id": "initial_id",
   "metadata": {
    "collapsed": true,
    "ExecuteTime": {
     "end_time": "2025-03-14T08:21:43.844567700Z",
     "start_time": "2025-03-14T08:21:42.463210300Z"
    }
   },
   "outputs": [
    {
     "name": "stdout",
     "output_type": "stream",
     "text": [
      "Accuracy: 1.0\n"
     ]
    }
   ],
   "source": [
    "from sklearn.linear_model import LogisticRegression\n",
    "from sklearn.datasets import load_iris\n",
    "from sklearn.model_selection import train_test_split\n",
    "\n",
    "iris = load_iris()\n",
    "X_train, X_test, y_train, y_test = train_test_split(iris.data, iris.target, test_size=0.3, random_state=42)\n",
    "classifier = LogisticRegression()\n",
    "classifier.fit(X_train, y_train)\n",
    "predictions = classifier.predict(X_test)\n",
    "print(\"Accuracy:\", classifier.score(X_test, y_test))"
   ]
  },
  {
   "cell_type": "markdown",
   "source": [
    "2 感知机"
   ],
   "metadata": {
    "collapsed": false
   },
   "id": "1ca7237293b552df"
  },
  {
   "cell_type": "code",
   "outputs": [
    {
     "name": "stdout",
     "output_type": "stream",
     "text": [
      "Accuracy: 0.8222222222222222\n"
     ]
    }
   ],
   "source": [
    "from sklearn.linear_model import Perceptron\n",
    "\n",
    "classifier = Perceptron()\n",
    "classifier.fit(X_train, y_train)\n",
    "predictions = classifier.predict(X_test)\n",
    "print(\"Accuracy:\", classifier.score(X_test, y_test))"
   ],
   "metadata": {
    "collapsed": false,
    "ExecuteTime": {
     "end_time": "2025-03-14T08:22:21.820945200Z",
     "start_time": "2025-03-14T08:22:21.792194Z"
    }
   },
   "id": "ae34a9e669d14809",
   "execution_count": 5
  },
  {
   "cell_type": "markdown",
   "source": [
    "3 lasso回归/岭回归"
   ],
   "metadata": {
    "collapsed": false
   },
   "id": "702e36ce14a56975"
  },
  {
   "cell_type": "code",
   "outputs": [
    {
     "name": "stdout",
     "output_type": "stream",
     "text": [
      "Accuracy: 0.9419138939268988\n"
     ]
    }
   ],
   "source": [
    "from sklearn.linear_model import Lasso, Ridge\n",
    "classifier = Ridge()\n",
    "classifier.fit(X_train,y_train)\n",
    "predictions = classifier.predict(X_test)\n",
    "print(\"Accuracy:\",classifier.score(X_test, y_test))"
   ],
   "metadata": {
    "collapsed": false,
    "ExecuteTime": {
     "end_time": "2025-03-14T08:23:52.769081900Z",
     "start_time": "2025-03-14T08:23:52.741702700Z"
    }
   },
   "id": "9d06a7826af204",
   "execution_count": 7
  }
 ],
 "metadata": {
  "kernelspec": {
   "display_name": "Python 3",
   "language": "python",
   "name": "python3"
  },
  "language_info": {
   "codemirror_mode": {
    "name": "ipython",
    "version": 2
   },
   "file_extension": ".py",
   "mimetype": "text/x-python",
   "name": "python",
   "nbconvert_exporter": "python",
   "pygments_lexer": "ipython2",
   "version": "2.7.6"
  }
 },
 "nbformat": 4,
 "nbformat_minor": 5
}
