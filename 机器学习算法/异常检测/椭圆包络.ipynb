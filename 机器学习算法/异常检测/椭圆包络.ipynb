{
 "cells": [
  {
   "cell_type": "markdown",
   "source": [
    "# 椭圆包络（Elliptic Envelope）\n",
    "原理：椭圆包络假设数据服从多元正态分布，通过估计数据的均值和协方差矩阵来构建一个椭圆，将数据点包含在椭圆内。那些位于椭圆外的数据点被认为是异常点。"
   ],
   "metadata": {
    "collapsed": false
   },
   "id": "91ffd3483661e476"
  },
  {
   "cell_type": "code",
   "execution_count": 3,
   "id": "initial_id",
   "metadata": {
    "collapsed": true,
    "ExecuteTime": {
     "end_time": "2025-03-15T16:36:24.259105Z",
     "start_time": "2025-03-15T16:36:24.240316700Z"
    }
   },
   "outputs": [
    {
     "name": "stdout",
     "output_type": "stream",
     "text": [
      "[ 1  1  1 -1]\n"
     ]
    }
   ],
   "source": [
    "from sklearn.covariance import EllipticEnvelope\n",
    "import numpy as np\n",
    "# 生成示例数据\n",
    "X = np.array([[1], [2], [3], [100]])\n",
    "\n",
    "# 创建 Elliptic Envelope 模型，设置 contamination 参数为 0.1（表示异常点的比例）\n",
    "ee = EllipticEnvelope(contamination=0.1)\n",
    "\n",
    "# 训练模型\n",
    "ee.fit(X)\n",
    "\n",
    "# 预测异常点，1 表示正常点，-1 表示异常点\n",
    "y_pred = ee.predict(X)\n",
    "\n",
    "print(y_pred)"
   ]
  }
 ],
 "metadata": {
  "kernelspec": {
   "display_name": "Python 3",
   "language": "python",
   "name": "python3"
  },
  "language_info": {
   "codemirror_mode": {
    "name": "ipython",
    "version": 2
   },
   "file_extension": ".py",
   "mimetype": "text/x-python",
   "name": "python",
   "nbconvert_exporter": "python",
   "pygments_lexer": "ipython2",
   "version": "2.7.6"
  }
 },
 "nbformat": 4,
 "nbformat_minor": 5
}
