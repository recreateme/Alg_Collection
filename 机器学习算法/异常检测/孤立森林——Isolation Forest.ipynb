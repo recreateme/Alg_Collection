{
 "cells": [
  {
   "cell_type": "markdown",
   "source": [
    "原理：孤立森林是基于树的异常检测算法。它通过随机选择一个特征和一个分割点，将数据集划分为两部分，不断重复这个过程，直到每个数据点都被孤立。异常点通常会在较少的分割次数下被孤立，因为它们在数据空间中是稀疏的。\n",
    "应用场景：对大规模数据集的异常检测效率较高，适用于数值型数据。例如在金融交易数据中，检测异常的交易行为。"
   ],
   "metadata": {
    "collapsed": false
   },
   "id": "1fb169feca664ffd"
  },
  {
   "cell_type": "code",
   "execution_count": 1,
   "id": "initial_id",
   "metadata": {
    "collapsed": true,
    "ExecuteTime": {
     "end_time": "2025-03-15T15:37:40.570219400Z",
     "start_time": "2025-03-15T15:37:38.900328200Z"
    }
   },
   "outputs": [
    {
     "name": "stdout",
     "output_type": "stream",
     "text": [
      "[ 1  1  1 -1]\n"
     ]
    }
   ],
   "source": [
    "from sklearn.ensemble import IsolationForest\n",
    "import numpy as np\n",
    "\n",
    "# 生成示例数据\n",
    "X = np.array([[1], [2], [3], [100]])\n",
    "\n",
    "# 创建 Isolation Forest 模型，设置 contamination 参数为 0.1（表示异常点的比例）\n",
    "iforest = IsolationForest(contamination=0.1)\n",
    "\n",
    "# 预测异常点，-1 表示异常点，1 表示正常点\n",
    "y_pred = iforest.fit_predict(X)\n",
    "\n",
    "print(y_pred)"
   ]
  }
 ],
 "metadata": {
  "kernelspec": {
   "display_name": "Python 3",
   "language": "python",
   "name": "python3"
  },
  "language_info": {
   "codemirror_mode": {
    "name": "ipython",
    "version": 2
   },
   "file_extension": ".py",
   "mimetype": "text/x-python",
   "name": "python",
   "nbconvert_exporter": "python",
   "pygments_lexer": "ipython2",
   "version": "2.7.6"
  }
 },
 "nbformat": 4,
 "nbformat_minor": 5
}
