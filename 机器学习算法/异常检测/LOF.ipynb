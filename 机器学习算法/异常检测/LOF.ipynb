{
 "cells": [
  {
   "cell_type": "markdown",
   "source": [
    "## 局部异常因子（Local Outlier Factor，LOF）\n",
    "原理：LOF 是一种基于密度的异常检测算法。它通过计算每个数据点的局部密度，并与邻域点的局部密度进行比较来判断该点是否为异常点。如果一个数据点的局部密度显著低于其邻域点的局部密度，则该点被认为是异常点。"
   ],
   "metadata": {
    "collapsed": false
   },
   "id": "48d986a097e8fcb5"
  },
  {
   "cell_type": "code",
   "execution_count": 2,
   "id": "initial_id",
   "metadata": {
    "collapsed": true,
    "ExecuteTime": {
     "end_time": "2025-03-15T15:37:45.541459800Z",
     "start_time": "2025-03-15T15:37:45.528224Z"
    }
   },
   "outputs": [
    {
     "name": "stdout",
     "output_type": "stream",
     "text": [
      "[ 1  1  1 -1]\n"
     ]
    }
   ],
   "source": [
    "from sklearn.neighbors import LocalOutlierFactor\n",
    "import numpy as np\n",
    "\n",
    "# 生成示例数据\n",
    "X = np.array([[1], [2], [3], [100]])\n",
    "\n",
    "# 创建 LOF 模型，设置邻居数量为 2\n",
    "lof = LocalOutlierFactor(n_neighbors=2)\n",
    "\n",
    "# 预测异常点，-1 表示异常点，1 表示正常点\n",
    "y_pred = lof.fit_predict(X)\n",
    "\n",
    "print(y_pred)"
   ]
  }
 ],
 "metadata": {
  "kernelspec": {
   "display_name": "Python 3",
   "language": "python",
   "name": "python3"
  },
  "language_info": {
   "codemirror_mode": {
    "name": "ipython",
    "version": 2
   },
   "file_extension": ".py",
   "mimetype": "text/x-python",
   "name": "python",
   "nbconvert_exporter": "python",
   "pygments_lexer": "ipython2",
   "version": "2.7.6"
  }
 },
 "nbformat": 4,
 "nbformat_minor": 5
}
