{
 "cells": [
  {
   "cell_type": "markdown",
   "source": [
    "原理：One-Class SVM 旨在找到一个超平面，将数据点与原点分隔开，使得数据点都位于超平面的一侧。它通过最大化数据点到超平面的距离来构建模型，那些远离超平面的数据点被认为是异常点。\n",
    "应用场景：适用于只有一类正常数据的情况，例如在图像识别中，检测不属于已知类别的图像。"
   ],
   "metadata": {
    "collapsed": false
   },
   "id": "afaa01fb8f725e4"
  },
  {
   "cell_type": "code",
   "outputs": [
    {
     "name": "stdout",
     "output_type": "stream",
     "text": [
      "[ 1 -1 -1  1]\n"
     ]
    }
   ],
   "source": [
    "from sklearn.svm import OneClassSVM\n",
    "import numpy as np\n",
    "\n",
    "# 生成示例数据\n",
    "X = np.array([[1], [2], [3], [100]])\n",
    "\n",
    "# 创建 One-Class SVM 模型，设置核函数为 'rbf'，nu 参数为 0.1（控制异常点的比例）\n",
    "ocsvm = OneClassSVM(kernel='rbf', nu=0.1)\n",
    "\n",
    "# 训练模型\n",
    "ocsvm.fit(X)\n",
    "\n",
    "# 预测异常点，1 表示正常点，-1 表示异常点\n",
    "y_pred = ocsvm.predict(X)\n",
    "\n",
    "print(y_pred)"
   ],
   "metadata": {
    "collapsed": false,
    "ExecuteTime": {
     "end_time": "2025-03-15T15:38:47.486250100Z",
     "start_time": "2025-03-15T15:38:46.083245500Z"
    }
   },
   "id": "e0b69841c17a58f5",
   "execution_count": 1
  }
 ],
 "metadata": {
  "kernelspec": {
   "display_name": "Python 3",
   "language": "python",
   "name": "python3"
  },
  "language_info": {
   "codemirror_mode": {
    "name": "ipython",
    "version": 2
   },
   "file_extension": ".py",
   "mimetype": "text/x-python",
   "name": "python",
   "nbconvert_exporter": "python",
   "pygments_lexer": "ipython2",
   "version": "2.7.6"
  }
 },
 "nbformat": 4,
 "nbformat_minor": 5
}
