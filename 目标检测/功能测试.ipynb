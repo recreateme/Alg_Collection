{
 "cells": [
  {
   "cell_type": "markdown",
   "source": [
    "# 测试区域生成器"
   ],
   "metadata": {
    "collapsed": false
   },
   "id": "2455a8149fe032f"
  },
  {
   "cell_type": "code",
   "execution_count": 1,
   "id": "initial_id",
   "metadata": {
    "collapsed": true,
    "ExecuteTime": {
     "end_time": "2025-04-09T03:09:18.346298100Z",
     "start_time": "2025-04-09T03:09:15.184105800Z"
    }
   },
   "outputs": [
    {
     "ename": "ModuleNotFoundError",
     "evalue": "No module named 'selectivesearch'",
     "output_type": "error",
     "traceback": [
      "\u001B[1;31m---------------------------------------------------------------------------\u001B[0m",
      "\u001B[1;31mModuleNotFoundError\u001B[0m                       Traceback (most recent call last)",
      "Cell \u001B[1;32mIn[1], line 5\u001B[0m\n\u001B[0;32m      3\u001B[0m \u001B[38;5;28;01mimport\u001B[39;00m \u001B[38;5;21;01mmatplotlib\u001B[39;00m\u001B[38;5;21;01m.\u001B[39;00m\u001B[38;5;21;01mpyplot\u001B[39;00m \u001B[38;5;28;01mas\u001B[39;00m \u001B[38;5;21;01mplt\u001B[39;00m\n\u001B[0;32m      4\u001B[0m \u001B[38;5;28;01mfrom\u001B[39;00m \u001B[38;5;21;01mskimage\u001B[39;00m \u001B[38;5;28;01mimport\u001B[39;00m io\n\u001B[1;32m----> 5\u001B[0m \u001B[38;5;28;01mimport\u001B[39;00m \u001B[38;5;21;01mselectivesearch\u001B[39;00m\n\u001B[0;32m      7\u001B[0m \u001B[38;5;66;03m# 1. 图像读取与预处理\u001B[39;00m\n\u001B[0;32m      8\u001B[0m \u001B[38;5;28;01mdef\u001B[39;00m \u001B[38;5;21mload_image\u001B[39m(image_path):\n",
      "\u001B[1;31mModuleNotFoundError\u001B[0m: No module named 'selectivesearch'"
     ]
    }
   ],
   "source": [
    "import cv2\n",
    "import numpy as np\n",
    "import matplotlib.pyplot as plt\n",
    "from skimage import io\n",
    "from selectivesearch import selective_search\n",
    "# 1. 图像读取与预处理\n",
    "def load_image(image_path):\n",
    "    img = cv2.imread(image_path)  # OpenCV读取BGR格式\n",
    "    img_rgb = cv2.cvtColor(img, cv2.COLOR_BGR2RGB)  # 转换为RGB格式[2](@ref)\n",
    "    return img, img_rgb\n",
    "\n",
    "# 2. 生成候选区域（Selective Search）\n",
    "def generate_proposals(img):\n",
    "    _, regions = selective_search(\n",
    "        img, scale=500, sigma=0.9, min_size=50\n",
    "    )\n",
    "    candidates = set()\n",
    "    for r in regions:\n",
    "        x, y, w, h = r['rect']\n",
    "        if w * h < 2000: continue  # 过滤过小区域[1](@ref)\n",
    "        candidates.add((x, y, x+w, y+h))  # 转换为(x1,y1,x2,y2)格式\n",
    "    return list(candidates)[:100]  # 取前100个候选框测试\n",
    "\n",
    "# 3. 绘制候选区域\n",
    "def draw_proposals(img_rgb, proposals):\n",
    "    vis_img = img_rgb.copy()\n",
    "    for (x1, y1, x2, y2) in proposals:\n",
    "        cv2.rectangle(vis_img, (x1, y1), (x2, y2), (0,255,0), 1)  # 绿色框，线宽1像素[2](@ref)\n",
    "    return vis_img\n",
    "\n",
    "# 4. 主流程\n",
    "if __name__ == \"__main__\":\n",
    "    # 输入设置\n",
    "    # image_path = \"test_image.jpg\"\n",
    "    # 将输入改为摄像头读取\n",
    "    cap = cv2.VideoCapture(0)\n",
    "    ret, img = cap.read()\n",
    "    \n",
    "    cv2.imshow(\"Input\", img)\n",
    "    cv2.waitKey(0)\n",
    "    # 执行流程\n",
    "    # img, img_rgb = load_image(image_path)\n",
    "    proposals = generate_proposals(img)\n",
    "    result_img = draw_proposals(img, proposals)\n",
    "    \n",
    "    # 可视化显示\n",
    "    plt.figure(figsize=(12,8))\n",
    "    plt.imshow(result_img)\n",
    "    plt.axis('off')\n",
    "    plt.title(f\"Detected Proposals ({len(proposals)} regions)\")\n",
    "    plt.show()\n",
    "    \n",
    "    # 保存结果（可选）\n",
    "    cv2.imwrite(\"output.jpg\", cv2.cvtColor(result_img, cv2.COLOR_RGB2BGR))"
   ]
  },
  {
   "cell_type": "code",
   "outputs": [],
   "source": [
    "import torch\n",
    "import torchvision\n",
    "from torch import nn\n",
    "from torchvision.ops import RoIPool, roi_align"
   ],
   "metadata": {
    "collapsed": false
   },
   "id": "ad98066243154fc6"
  }
 ],
 "metadata": {
  "kernelspec": {
   "display_name": "Python 3",
   "language": "python",
   "name": "python3"
  },
  "language_info": {
   "codemirror_mode": {
    "name": "ipython",
    "version": 2
   },
   "file_extension": ".py",
   "mimetype": "text/x-python",
   "name": "python",
   "nbconvert_exporter": "python",
   "pygments_lexer": "ipython2",
   "version": "2.7.6"
  }
 },
 "nbformat": 4,
 "nbformat_minor": 5
}
