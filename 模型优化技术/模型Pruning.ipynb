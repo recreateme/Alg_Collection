{
 "cells": [
  {
   "cell_type": "code",
   "execution_count": null,
   "id": "initial_id",
   "metadata": {
    "collapsed": true
   },
   "outputs": [],
   "source": [
    "import torch\n",
    "\n",
    "\n",
    "# 步骤1：评估通道重要性（以BN层γ为例）\n",
    "def compute_channel_importance(model):\n",
    "    gamma_values = []\n",
    "    for name, module in model.named_modules():\n",
    "        if isinstance(module, nn.BatchNorm2d):\n",
    "            gamma = module.weight.data.abs()  # γ绝对值作为重要性\n",
    "            gamma_values.append(gamma)\n",
    "    return torch.cat(gamma_values)\n",
    "\n",
    "# 步骤2：生成通道掩码\n",
    "def generate_prune_mask(gamma, prune_ratio=0.3):\n",
    "    sorted_idx = torch.argsort(gamma)\n",
    "    prune_num = int(len(gamma) * prune_ratio)\n",
    "    mask = torch.ones_like(gamma)\n",
    "    mask[sorted_idx[:prune_num]] = 0  # 剪除重要性最低的通道\n",
    "    return mask\n",
    "\n",
    "# 步骤3：应用剪枝（以Conv-BN结构为例）\n",
    "def apply_channel_prune(conv, bn, mask):\n",
    "    # 剪枝BN层\n",
    "    bn.weight.data = bn.weight.data[mask == 1]\n",
    "    bn.bias.data = bn.bias.data[mask == 1]\n",
    "    bn.running_mean = bn.running_mean[mask == 1]\n",
    "    bn.running_var = bn.running_var[mask == 1]\n",
    "    \n",
    "    # 剪枝卷积层输出通道\n",
    "    conv.weight.data = conv.weight.data[mask == 1, :, :, :]\n",
    "    if conv.bias is not None:\n",
    "        conv.bias.data = conv.bias.data[mask == 1]\n",
    "    \n",
    "    # 调整下一层卷积输入通道\n",
    "    next_conv = get_next_conv_layer(model, conv)\n",
    "    if next_conv is not None:\n",
    "        next_conv.weight.data = next_conv.weight.data[:, mask == 1, :, :]"
   ]
  }
 ],
 "metadata": {
  "kernelspec": {
   "display_name": "Python 3",
   "language": "python",
   "name": "python3"
  },
  "language_info": {
   "codemirror_mode": {
    "name": "ipython",
    "version": 2
   },
   "file_extension": ".py",
   "mimetype": "text/x-python",
   "name": "python",
   "nbconvert_exporter": "python",
   "pygments_lexer": "ipython2",
   "version": "2.7.6"
  }
 },
 "nbformat": 4,
 "nbformat_minor": 5
}
