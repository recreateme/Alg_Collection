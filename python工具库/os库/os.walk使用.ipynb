{
 "cells": [
  {
   "cell_type": "code",
   "execution_count": null,
   "id": "initial_id",
   "metadata": {
    "collapsed": true
   },
   "outputs": [],
   "source": [
    "import os\n",
    "\n",
    "'''\n",
    "    每次迭代返回一个三元组(dirpath, dirnames, filenames)：\n",
    "\n",
    "    dirpath：当前遍历目录的完整路径（字符串）\n",
    "    dirnames：当前目录下的子目录名称列表（不包含路径）\n",
    "    filenames：当前目录下的文件名称列表（不包含路径）\n",
    "'''\n",
    "example_dir = r'D:\\Develop\\tianchi\\train-data'\n",
    "for root, dirs, files in os.walk(example_dir):\n",
    "    print(f\"当前目录：{root}\")\n",
    "    print(f\"子目录：{dirs}\")\n",
    "    print(f\"文件：{files}\")\n",
    "    print(\"----\")"
   ]
  }
 ],
 "metadata": {
  "kernelspec": {
   "display_name": "Python 3",
   "language": "python",
   "name": "python3"
  },
  "language_info": {
   "codemirror_mode": {
    "name": "ipython",
    "version": 2
   },
   "file_extension": ".py",
   "mimetype": "text/x-python",
   "name": "python",
   "nbconvert_exporter": "python",
   "pygments_lexer": "ipython2",
   "version": "2.7.6"
  }
 },
 "nbformat": 4,
 "nbformat_minor": 5
}
