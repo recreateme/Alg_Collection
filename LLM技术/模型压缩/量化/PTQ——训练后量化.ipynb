{
 "cells": [
  {
   "cell_type": "markdown",
   "source": [
    "### 训练后量化（PTQ）\n",
    "准备模型：定义或加载预训练的模型。\n",
    "配置量化：选择合适的量化配置，如量化数据类型、量化方案等。\n",
    "插入量化节点：使用 torch.quantization.prepare 方法在模型中插入量化和反量化节点。\n",
    "校准模型：使用校准数据集对模型进行校准，以确定量化参数（如缩放因子和零点）。\n",
    "转换模型：使用 torch.quantization.convert 方法将模型转换为量化模型。"
   ],
   "metadata": {
    "collapsed": false
   },
   "id": "28e1a4263c44756e"
  },
  {
   "cell_type": "code",
   "execution_count": null,
   "id": "initial_id",
   "metadata": {
    "collapsed": true
   },
   "outputs": [],
   "source": [
    "import torch\n",
    "import torch.nn as nn\n",
    "import torch.quantization\n",
    "from torchvision import datasets, transforms\n",
    "\n",
    "# 定义一个简单的模型\n",
    "class SimpleModel(nn.Module):\n",
    "    def __init__(self):\n",
    "        super(SimpleModel, self).__init__()\n",
    "        self.quant = torch.quantization.QuantStub()\n",
    "        self.conv = nn.Conv2d(1, 16, kernel_size=3, padding=1)\n",
    "        self.relu = nn.ReLU()\n",
    "        self.dequant = torch.quantization.DeQuantStub()\n",
    "\n",
    "    def forward(self, x):\n",
    "        x = self.quant(x)\n",
    "        x = self.conv(x)\n",
    "        x = self.relu(x)\n",
    "        x = self.dequant(x)\n",
    "        return x\n",
    "\n",
    "# 数据预处理\n",
    "transform = transforms.Compose([\n",
    "    transforms.ToTensor(),\n",
    "    transforms.Normalize((0.1307,), (0.3081,))\n",
    "])\n",
    "\n",
    "# 加载数据集\n",
    "train_dataset = datasets.MNIST(root='./data', train=True,\n",
    "                               download=True, transform=transform)\n",
    "train_loader = torch.utils.data.DataLoader(train_dataset, batch_size=64, shuffle=True)\n",
    "\n",
    "# 初始化模型\n",
    "model = SimpleModel()\n",
    "\n",
    "# 获取默认的量化配置\n",
    "qconfig = torch.quantization.get_default_qconfig('x86')\n",
    "model.qconfig = qconfig\n",
    "\n",
    "# 准备模型\n",
    "prepared_model = torch.quantization.prepare(model)  \n",
    "\n",
    "# 校准模型（这里简单使用训练数据的一部分进行校准）\n",
    "model.eval()\n",
    "with torch.no_grad():\n",
    "    for images, _ in train_loader:\n",
    "        prepared_model(images)\n",
    "\n",
    "# 转换为量化模型\n",
    "quantized_model = torch.quantization.convert(prepared_model)"
   ]
  }
 ],
 "metadata": {
  "kernelspec": {
   "display_name": "Python 3",
   "language": "python",
   "name": "python3"
  },
  "language_info": {
   "codemirror_mode": {
    "name": "ipython",
    "version": 2
   },
   "file_extension": ".py",
   "mimetype": "text/x-python",
   "name": "python",
   "nbconvert_exporter": "python",
   "pygments_lexer": "ipython2",
   "version": "2.7.6"
  }
 },
 "nbformat": 4,
 "nbformat_minor": 5
}
