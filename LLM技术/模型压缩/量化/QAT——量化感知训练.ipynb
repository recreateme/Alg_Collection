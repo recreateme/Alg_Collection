{
 "cells": [
  {
   "cell_type": "markdown",
   "source": [
    "### 量化感知训练（QAT）\n",
    "准备模型：定义或加载预训练的模型，并在模型中添加量化和反量化节点。\n",
    "配置量化：选择合适的量化配置。\n",
    "准备量化感知训练：使用 torch.quantization.prepare_qat 方法将模型转换为量化感知训练模式。\n",
    "训练模型：使用训练数据对模型进行训练，让模型在训练过程中适应量化带来的影响。\n",
    "转换模型：训练完成后，使用 torch.quantization.convert 方法将模型转换为量化模型。"
   ],
   "metadata": {
    "collapsed": false
   },
   "id": "9d8f86267ff28924"
  },
  {
   "cell_type": "code",
   "execution_count": null,
   "id": "initial_id",
   "metadata": {
    "collapsed": true
   },
   "outputs": [],
   "source": [
    "import torch\n",
    "import torch.nn as nn\n",
    "import torch.optim as optim\n",
    "from torch.quantization import QuantStub, DeQuantStub\n",
    "from torchvision import datasets, transforms\n",
    "\n",
    "# 定义一个简单的卷积神经网络\n",
    "class SimpleCNN(nn.Module):\n",
    "    def __init__(self):\n",
    "        super(SimpleCNN, self).__init__()\n",
    "        self.quant = QuantStub()\n",
    "        self.conv1 = nn.Conv2d(1, 16, kernel_size=3, padding=1)\n",
    "        self.relu1 = nn.ReLU()\n",
    "        self.pool1 = nn.MaxPool2d(2)\n",
    "        self.conv2 = nn.Conv2d(16, 32, kernel_size=3, padding=1)\n",
    "        self.relu2 = nn.ReLU()\n",
    "        self.pool2 = nn.MaxPool2d(2)\n",
    "        self.fc1 = nn.Linear(32 * 7 * 7, 128)\n",
    "        self.relu3 = nn.ReLU()\n",
    "        self.fc2 = nn.Linear(128, 10)\n",
    "        self.dequant = DeQuantStub()\n",
    "\n",
    "    def forward(self, x):\n",
    "        x = self.quant(x)\n",
    "        x = self.relu1(self.conv1(x))\n",
    "        x = self.pool1(x)\n",
    "        x = self.relu2(self.conv2(x))\n",
    "        x = self.pool2(x)\n",
    "        x = x.view(-1, 32 * 7 * 7)\n",
    "        x = self.relu3(self.fc1(x))\n",
    "        x = self.fc2(x)\n",
    "        x = self.dequant(x)\n",
    "        return x\n",
    "\n",
    "\n",
    "# 数据预处理\n",
    "transform = transforms.Compose([\n",
    "    transforms.ToTensor(),\n",
    "    transforms.Normalize((0.1307,), (0.3081,))\n",
    "])\n",
    "\n",
    "# 加载数据集\n",
    "train_dataset = datasets.MNIST(root='./data', train=True,\n",
    "                               download=True, transform=transform)\n",
    "train_loader = torch.utils.data.DataLoader(train_dataset, batch_size=64, shuffle=True)\n",
    "\n",
    "# 初始化模型\n",
    "model = SimpleCNN()\n",
    "\n",
    "# 定义量化配置\n",
    "model.qconfig = torch.quantization.get_default_qat_qconfig('x86')\n",
    "\n",
    "# 准备量化感知训练\n",
    "model = torch.quantization.prepare_qat(model, inplace=False)\n",
    "\n",
    "# 定义损失函数和优化器\n",
    "criterion = nn.CrossEntropyLoss()\n",
    "optimizer = optim.SGD(model.parameters(), lr=0.001, momentum=0.9)\n",
    "\n",
    "# 训练模型\n",
    "num_epochs = 5\n",
    "for epoch in range(num_epochs):\n",
    "    running_loss = 0.0\n",
    "    for i, (images, labels) in enumerate(train_loader):\n",
    "        optimizer.zero_grad()\n",
    "        outputs = model(images)\n",
    "        loss = criterion(outputs, labels)\n",
    "        loss.backward()\n",
    "        optimizer.step()\n",
    "        running_loss += loss.item()\n",
    "    print(f'Epoch {epoch + 1}, Loss: {running_loss / len(train_loader)}')\n",
    "\n",
    "# 将训练好的模型转换为量化模型\n",
    "model = torch.quantization.convert(model.eval(), inplace=False)\n",
    "\n",
    "# 保存量化模型\n",
    "torch.save(model.state_dict(), 'quantized_model.pth')"
   ]
  }
 ],
 "metadata": {
  "kernelspec": {
   "display_name": "Python 3",
   "language": "python",
   "name": "python3"
  },
  "language_info": {
   "codemirror_mode": {
    "name": "ipython",
    "version": 2
   },
   "file_extension": ".py",
   "mimetype": "text/x-python",
   "name": "python",
   "nbconvert_exporter": "python",
   "pygments_lexer": "ipython2",
   "version": "2.7.6"
  }
 },
 "nbformat": 4,
 "nbformat_minor": 5
}
