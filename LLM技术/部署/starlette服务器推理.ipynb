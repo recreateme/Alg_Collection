{
 "cells": [
  {
   "cell_type": "code",
   "execution_count": null,
   "id": "initial_id",
   "metadata": {
    "collapsed": true
   },
   "outputs": [],
   "source": [
    "from starlette.applications import Starlette\n",
    "from starlette.responses import JSONResponse\n",
    "from starlette.routing import Route\n",
    "from transformers import pipeline\n",
    "import asyncio\n",
    "\n",
    "async def homepage(request):\n",
    "    payload = await request.body()\n",
    "    string = payload.decode(\"utf-8\")\n",
    "    response_q = asyncio.Queue()\n",
    "    await request.app.model_queue.put((string, response_q))\n",
    "    output = await response_q.get()\n",
    "    return JSONResponse(output)\n",
    "\n",
    "async def server_loop(q):\n",
    "    pipeline = pipeline(task=\"fill-mask\",model=\"google-bert/bert-base-uncased\")\n",
    "    while True:\n",
    "        (string, response_q) = await q.get()\n",
    "        out = pipeline(string)\n",
    "        await response_q.put(out)\n",
    "\n",
    "app = Starlette(\n",
    "    routes=[\n",
    "        Route(\"/\", homepage, methods=[\"POST\"]),\n",
    "    ],\n",
    ")\n",
    "\n",
    "@app.on_event(\"startup\")\n",
    "async def startup_event():\n",
    "    q = asyncio.Queue()\n",
    "    app.model_queue = q\n",
    "    asyncio.create_task(server_loop(q))"
   ]
  },
  {
   "cell_type": "markdown",
   "source": [
    "## 启动服务器"
   ],
   "metadata": {
    "collapsed": false
   },
   "id": "d20e0b1ece81df92"
  }
 ],
 "metadata": {
  "kernelspec": {
   "display_name": "Python 3",
   "language": "python",
   "name": "python3"
  },
  "language_info": {
   "codemirror_mode": {
    "name": "ipython",
    "version": 2
   },
   "file_extension": ".py",
   "mimetype": "text/x-python",
   "name": "python",
   "nbconvert_exporter": "python",
   "pygments_lexer": "ipython2",
   "version": "2.7.6"
  }
 },
 "nbformat": 4,
 "nbformat_minor": 5
}
