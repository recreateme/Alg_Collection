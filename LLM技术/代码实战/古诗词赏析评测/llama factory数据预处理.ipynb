{
 "cells": [
  {
   "cell_type": "code",
   "execution_count": 1,
   "id": "initial_id",
   "metadata": {
    "collapsed": true,
    "ExecuteTime": {
     "end_time": "2025-04-25T07:28:01.325454300Z",
     "start_time": "2025-04-25T07:28:01.305989900Z"
    }
   },
   "outputs": [],
   "source": [
    "import json\n",
    "\n",
    "def load_json(file_path):\n",
    "    with open(file_path, 'r', encoding='utf-8') as f:\n",
    "        data_list = json.load(f)  # 返回类型为list[dict]\n",
    "    return data_list"
   ]
  },
  {
   "cell_type": "markdown",
   "source": [
    "# 训练数据集"
   ],
   "metadata": {
    "collapsed": false
   },
   "id": "5a1990af760b2bdd"
  },
  {
   "cell_type": "code",
   "outputs": [],
   "source": [
    "train_data_list = r\"D:\\Develop\\tianchi\\train-data\"\n",
    "\n",
    "import os\n",
    "# os.walk遍历目录，返回一个三元组(dirpath, dirnames, filenames)\n",
    "for root, dirs, files in os.walk(train_data_list):\n",
    "    for file in files:\n",
    "        if file.endswith('.json'):\n",
    "            \n",
    "            # file_path = os.path.join(root, file)\n",
    "            # data_list = load_json(file_path)\n",
    "            # convert(data_list, mode=\"train\")"
   ],
   "metadata": {
    "collapsed": false
   },
   "id": "6c9d34086db4770a"
  },
  {
   "cell_type": "markdown",
   "source": [
    "## 数据预处理脚本"
   ],
   "metadata": {
    "collapsed": false
   },
   "id": "190115f7bd7f0ff"
  },
  {
   "cell_type": "code",
   "outputs": [],
   "source": [
    "import json\n",
    "\n",
    "def convert(raw_json, mode=\"train\"):\n",
    "    records = []\n",
    "    for rec in raw_json:\n",
    "        prompt = \"下面是一首古诗，完成以下三项任务：\\n\" \\\n",
    "                 \"1) 为给定的关键词列表生成每个词的释义；\\n\" \\\n",
    "                 \"2) 为给定的句子列表解释其含义；\\n\" \\\n",
    "                 \"3) 从情感选项中选择最符合全诗意境的情感，输出编号。\\n\"\n",
    "        input_block = {\n",
    "            \"title\": rec[\"title\"],\n",
    "            \"author\": rec[\"author\"],\n",
    "            \"content\": rec[\"content\"],\n",
    "            \"keywords\": rec.get(\"keywords\", {}),\n",
    "            \"trans\": rec.get(\"trans\", \"\"),\n",
    "            \"qa_words\": rec[\"qa_words\"],\n",
    "            \"qa_sents\": rec[\"qa_sents\"],\n",
    "            \"choose\": rec[\"choose\"]\n",
    "        }\n",
    "        output_block = {\n",
    "            \"ans_qa_words\": rec.get(\"ans_qa_words\", {w:\"\" for w in rec[\"qa_words\"]}),\n",
    "            \"ans_qa_sents\": rec.get(\"ans_qa_sents\", {s:\"\" for s in rec[\"qa_sents\"]}),\n",
    "            \"choose_id\": rec.get(\"choose_id\", \"\")\n",
    "        }\n",
    "        records.append({\n",
    "            \"instruction\": prompt,\n",
    "            \"input\": input_block,\n",
    "            \"output\": output_block\n",
    "        })\n",
    "    # 写成 JSONL\n",
    "    with open(f\"{mode}.jsonl\", \"w\", encoding=\"utf-8\") as fout:\n",
    "        for r in records:\n",
    "            fout.write(json.dumps(r, ensure_ascii=False) + \"\\n\")\n"
   ],
   "metadata": {
    "collapsed": false
   },
   "id": "e6f76dbb0e1a58fc"
  }
 ],
 "metadata": {
  "kernelspec": {
   "display_name": "Python 3",
   "language": "python",
   "name": "python3"
  },
  "language_info": {
   "codemirror_mode": {
    "name": "ipython",
    "version": 2
   },
   "file_extension": ".py",
   "mimetype": "text/x-python",
   "name": "python",
   "nbconvert_exporter": "python",
   "pygments_lexer": "ipython2",
   "version": "2.7.6"
  }
 },
 "nbformat": 4,
 "nbformat_minor": 5
}
