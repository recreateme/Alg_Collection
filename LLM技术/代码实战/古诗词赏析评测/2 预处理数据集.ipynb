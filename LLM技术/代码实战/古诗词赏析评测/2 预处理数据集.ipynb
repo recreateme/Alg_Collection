{
 "cells": [
  {
   "cell_type": "code",
   "execution_count": 19,
   "id": "initial_id",
   "metadata": {
    "collapsed": true,
    "ExecuteTime": {
     "end_time": "2025-04-25T06:22:10.131638500Z",
     "start_time": "2025-04-25T06:22:06.979032800Z"
    }
   },
   "outputs": [
    {
     "ename": "FileNotFoundError",
     "evalue": "Unable to find 'D:\\Develop\\tianchi\\train-data'",
     "output_type": "error",
     "traceback": [
      "\u001B[1;31m---------------------------------------------------------------------------\u001B[0m",
      "\u001B[1;31mFileNotFoundError\u001B[0m                         Traceback (most recent call last)",
      "Cell \u001B[1;32mIn[19], line 109\u001B[0m\n\u001B[0;32m     98\u001B[0m     \u001B[38;5;28;01mreturn\u001B[39;00m {\n\u001B[0;32m     99\u001B[0m         \u001B[38;5;124m\"\u001B[39m\u001B[38;5;124midx\u001B[39m\u001B[38;5;124m\"\u001B[39m: example[\u001B[38;5;124m\"\u001B[39m\u001B[38;5;124midx\u001B[39m\u001B[38;5;124m\"\u001B[39m],\n\u001B[0;32m    100\u001B[0m         \u001B[38;5;124m\"\u001B[39m\u001B[38;5;124minput_text\u001B[39m\u001B[38;5;124m\"\u001B[39m: prompt,\n\u001B[1;32m   (...)\u001B[0m\n\u001B[0;32m    103\u001B[0m         \u001B[38;5;124m\"\u001B[39m\u001B[38;5;124mchoose\u001B[39m\u001B[38;5;124m\"\u001B[39m: choose\n\u001B[0;32m    104\u001B[0m     }\n\u001B[0;32m    107\u001B[0m \u001B[38;5;66;03m# 1. 加载原始训练/验证 JSON\u001B[39;00m\n\u001B[0;32m    108\u001B[0m \u001B[38;5;66;03m# 假设文件 train.json、val.json 分别为训练、验证集\u001B[39;00m\n\u001B[1;32m--> 109\u001B[0m raw \u001B[38;5;241m=\u001B[39m \u001B[43mload_dataset\u001B[49m\u001B[43m(\u001B[49m\u001B[38;5;124;43m\"\u001B[39;49m\u001B[38;5;124;43mjson\u001B[39;49m\u001B[38;5;124;43m\"\u001B[39;49m\u001B[43m,\u001B[49m\u001B[43m \u001B[49m\u001B[43mdata_files\u001B[49m\u001B[38;5;241;43m=\u001B[39;49m\u001B[43m{\u001B[49m\u001B[38;5;124;43m\"\u001B[39;49m\u001B[38;5;124;43mtrain\u001B[39;49m\u001B[38;5;124;43m\"\u001B[39;49m\u001B[43m:\u001B[49m\u001B[43m \u001B[49m\u001B[38;5;124;43mr\u001B[39;49m\u001B[38;5;124;43m\"\u001B[39;49m\u001B[38;5;124;43mD:\u001B[39;49m\u001B[38;5;124;43m\\\u001B[39;49m\u001B[38;5;124;43mDevelop\u001B[39;49m\u001B[38;5;124;43m\\\u001B[39;49m\u001B[38;5;124;43mtianchi\u001B[39;49m\u001B[38;5;124;43m\\\u001B[39;49m\u001B[38;5;124;43mtrain-data\u001B[39;49m\u001B[38;5;124;43m\"\u001B[39;49m\u001B[43m}\u001B[49m\u001B[43m)\u001B[49m\n",
      "File \u001B[1;32mD:\\Anaconda\\envs\\llm\\lib\\site-packages\\datasets\\load.py:2129\u001B[0m, in \u001B[0;36mload_dataset\u001B[1;34m(path, name, data_dir, data_files, split, cache_dir, features, download_config, download_mode, verification_mode, keep_in_memory, save_infos, revision, token, streaming, num_proc, storage_options, trust_remote_code, **config_kwargs)\u001B[0m\n\u001B[0;32m   2124\u001B[0m verification_mode \u001B[38;5;241m=\u001B[39m VerificationMode(\n\u001B[0;32m   2125\u001B[0m     (verification_mode \u001B[38;5;129;01mor\u001B[39;00m VerificationMode\u001B[38;5;241m.\u001B[39mBASIC_CHECKS) \u001B[38;5;28;01mif\u001B[39;00m \u001B[38;5;129;01mnot\u001B[39;00m save_infos \u001B[38;5;28;01melse\u001B[39;00m VerificationMode\u001B[38;5;241m.\u001B[39mALL_CHECKS\n\u001B[0;32m   2126\u001B[0m )\n\u001B[0;32m   2128\u001B[0m \u001B[38;5;66;03m# Create a dataset builder\u001B[39;00m\n\u001B[1;32m-> 2129\u001B[0m builder_instance \u001B[38;5;241m=\u001B[39m load_dataset_builder(\n\u001B[0;32m   2130\u001B[0m     path\u001B[38;5;241m=\u001B[39mpath,\n\u001B[0;32m   2131\u001B[0m     name\u001B[38;5;241m=\u001B[39mname,\n\u001B[0;32m   2132\u001B[0m     data_dir\u001B[38;5;241m=\u001B[39mdata_dir,\n\u001B[0;32m   2133\u001B[0m     data_files\u001B[38;5;241m=\u001B[39mdata_files,\n\u001B[0;32m   2134\u001B[0m     cache_dir\u001B[38;5;241m=\u001B[39mcache_dir,\n\u001B[0;32m   2135\u001B[0m     features\u001B[38;5;241m=\u001B[39mfeatures,\n\u001B[0;32m   2136\u001B[0m     download_config\u001B[38;5;241m=\u001B[39mdownload_config,\n\u001B[0;32m   2137\u001B[0m     download_mode\u001B[38;5;241m=\u001B[39mdownload_mode,\n\u001B[0;32m   2138\u001B[0m     revision\u001B[38;5;241m=\u001B[39mrevision,\n\u001B[0;32m   2139\u001B[0m     token\u001B[38;5;241m=\u001B[39mtoken,\n\u001B[0;32m   2140\u001B[0m     storage_options\u001B[38;5;241m=\u001B[39mstorage_options,\n\u001B[0;32m   2141\u001B[0m     trust_remote_code\u001B[38;5;241m=\u001B[39mtrust_remote_code,\n\u001B[0;32m   2142\u001B[0m     _require_default_config_name\u001B[38;5;241m=\u001B[39mname \u001B[38;5;129;01mis\u001B[39;00m \u001B[38;5;28;01mNone\u001B[39;00m,\n\u001B[0;32m   2143\u001B[0m     \u001B[38;5;241m*\u001B[39m\u001B[38;5;241m*\u001B[39mconfig_kwargs,\n\u001B[0;32m   2144\u001B[0m )\n\u001B[0;32m   2146\u001B[0m \u001B[38;5;66;03m# Return iterable dataset in case of streaming\u001B[39;00m\n\u001B[0;32m   2147\u001B[0m \u001B[38;5;28;01mif\u001B[39;00m streaming:\n",
      "File \u001B[1;32mD:\\Anaconda\\envs\\llm\\lib\\site-packages\\datasets\\load.py:1849\u001B[0m, in \u001B[0;36mload_dataset_builder\u001B[1;34m(path, name, data_dir, data_files, cache_dir, features, download_config, download_mode, revision, token, storage_options, trust_remote_code, _require_default_config_name, **config_kwargs)\u001B[0m\n\u001B[0;32m   1847\u001B[0m     download_config \u001B[38;5;241m=\u001B[39m download_config\u001B[38;5;241m.\u001B[39mcopy() \u001B[38;5;28;01mif\u001B[39;00m download_config \u001B[38;5;28;01melse\u001B[39;00m DownloadConfig()\n\u001B[0;32m   1848\u001B[0m     download_config\u001B[38;5;241m.\u001B[39mstorage_options\u001B[38;5;241m.\u001B[39mupdate(storage_options)\n\u001B[1;32m-> 1849\u001B[0m dataset_module \u001B[38;5;241m=\u001B[39m \u001B[43mdataset_module_factory\u001B[49m\u001B[43m(\u001B[49m\n\u001B[0;32m   1850\u001B[0m \u001B[43m    \u001B[49m\u001B[43mpath\u001B[49m\u001B[43m,\u001B[49m\n\u001B[0;32m   1851\u001B[0m \u001B[43m    \u001B[49m\u001B[43mrevision\u001B[49m\u001B[38;5;241;43m=\u001B[39;49m\u001B[43mrevision\u001B[49m\u001B[43m,\u001B[49m\n\u001B[0;32m   1852\u001B[0m \u001B[43m    \u001B[49m\u001B[43mdownload_config\u001B[49m\u001B[38;5;241;43m=\u001B[39;49m\u001B[43mdownload_config\u001B[49m\u001B[43m,\u001B[49m\n\u001B[0;32m   1853\u001B[0m \u001B[43m    \u001B[49m\u001B[43mdownload_mode\u001B[49m\u001B[38;5;241;43m=\u001B[39;49m\u001B[43mdownload_mode\u001B[49m\u001B[43m,\u001B[49m\n\u001B[0;32m   1854\u001B[0m \u001B[43m    \u001B[49m\u001B[43mdata_dir\u001B[49m\u001B[38;5;241;43m=\u001B[39;49m\u001B[43mdata_dir\u001B[49m\u001B[43m,\u001B[49m\n\u001B[0;32m   1855\u001B[0m \u001B[43m    \u001B[49m\u001B[43mdata_files\u001B[49m\u001B[38;5;241;43m=\u001B[39;49m\u001B[43mdata_files\u001B[49m\u001B[43m,\u001B[49m\n\u001B[0;32m   1856\u001B[0m \u001B[43m    \u001B[49m\u001B[43mcache_dir\u001B[49m\u001B[38;5;241;43m=\u001B[39;49m\u001B[43mcache_dir\u001B[49m\u001B[43m,\u001B[49m\n\u001B[0;32m   1857\u001B[0m \u001B[43m    \u001B[49m\u001B[43mtrust_remote_code\u001B[49m\u001B[38;5;241;43m=\u001B[39;49m\u001B[43mtrust_remote_code\u001B[49m\u001B[43m,\u001B[49m\n\u001B[0;32m   1858\u001B[0m \u001B[43m    \u001B[49m\u001B[43m_require_default_config_name\u001B[49m\u001B[38;5;241;43m=\u001B[39;49m\u001B[43m_require_default_config_name\u001B[49m\u001B[43m,\u001B[49m\n\u001B[0;32m   1859\u001B[0m \u001B[43m    \u001B[49m\u001B[43m_require_custom_configs\u001B[49m\u001B[38;5;241;43m=\u001B[39;49m\u001B[38;5;28;43mbool\u001B[39;49m\u001B[43m(\u001B[49m\u001B[43mconfig_kwargs\u001B[49m\u001B[43m)\u001B[49m\u001B[43m,\u001B[49m\n\u001B[0;32m   1860\u001B[0m \u001B[43m\u001B[49m\u001B[43m)\u001B[49m\n\u001B[0;32m   1861\u001B[0m \u001B[38;5;66;03m# Get dataset builder class from the processing script\u001B[39;00m\n\u001B[0;32m   1862\u001B[0m builder_kwargs \u001B[38;5;241m=\u001B[39m dataset_module\u001B[38;5;241m.\u001B[39mbuilder_kwargs\n",
      "File \u001B[1;32mD:\\Anaconda\\envs\\llm\\lib\\site-packages\\datasets\\load.py:1564\u001B[0m, in \u001B[0;36mdataset_module_factory\u001B[1;34m(path, revision, download_config, download_mode, dynamic_modules_path, data_dir, data_files, cache_dir, trust_remote_code, _require_default_config_name, _require_custom_configs, **download_kwargs)\u001B[0m\n\u001B[0;32m   1541\u001B[0m \u001B[38;5;66;03m# We have several ways to get a dataset builder:\u001B[39;00m\n\u001B[0;32m   1542\u001B[0m \u001B[38;5;66;03m#\u001B[39;00m\n\u001B[0;32m   1543\u001B[0m \u001B[38;5;66;03m# - if path is the name of a packaged dataset module\u001B[39;00m\n\u001B[1;32m   (...)\u001B[0m\n\u001B[0;32m   1555\u001B[0m \n\u001B[0;32m   1556\u001B[0m \u001B[38;5;66;03m# Try packaged\u001B[39;00m\n\u001B[0;32m   1557\u001B[0m \u001B[38;5;28;01mif\u001B[39;00m path \u001B[38;5;129;01min\u001B[39;00m _PACKAGED_DATASETS_MODULES:\n\u001B[0;32m   1558\u001B[0m     \u001B[38;5;28;01mreturn\u001B[39;00m \u001B[43mPackagedDatasetModuleFactory\u001B[49m\u001B[43m(\u001B[49m\n\u001B[0;32m   1559\u001B[0m \u001B[43m        \u001B[49m\u001B[43mpath\u001B[49m\u001B[43m,\u001B[49m\n\u001B[0;32m   1560\u001B[0m \u001B[43m        \u001B[49m\u001B[43mdata_dir\u001B[49m\u001B[38;5;241;43m=\u001B[39;49m\u001B[43mdata_dir\u001B[49m\u001B[43m,\u001B[49m\n\u001B[0;32m   1561\u001B[0m \u001B[43m        \u001B[49m\u001B[43mdata_files\u001B[49m\u001B[38;5;241;43m=\u001B[39;49m\u001B[43mdata_files\u001B[49m\u001B[43m,\u001B[49m\n\u001B[0;32m   1562\u001B[0m \u001B[43m        \u001B[49m\u001B[43mdownload_config\u001B[49m\u001B[38;5;241;43m=\u001B[39;49m\u001B[43mdownload_config\u001B[49m\u001B[43m,\u001B[49m\n\u001B[0;32m   1563\u001B[0m \u001B[43m        \u001B[49m\u001B[43mdownload_mode\u001B[49m\u001B[38;5;241;43m=\u001B[39;49m\u001B[43mdownload_mode\u001B[49m\u001B[43m,\u001B[49m\n\u001B[1;32m-> 1564\u001B[0m \u001B[43m    \u001B[49m\u001B[43m)\u001B[49m\u001B[38;5;241;43m.\u001B[39;49m\u001B[43mget_module\u001B[49m\u001B[43m(\u001B[49m\u001B[43m)\u001B[49m\n\u001B[0;32m   1565\u001B[0m \u001B[38;5;66;03m# Try locally\u001B[39;00m\n\u001B[0;32m   1566\u001B[0m \u001B[38;5;28;01melif\u001B[39;00m path\u001B[38;5;241m.\u001B[39mendswith(filename):\n",
      "File \u001B[1;32mD:\\Anaconda\\envs\\llm\\lib\\site-packages\\datasets\\load.py:944\u001B[0m, in \u001B[0;36mPackagedDatasetModuleFactory.get_module\u001B[1;34m(self)\u001B[0m\n\u001B[0;32m    938\u001B[0m base_path \u001B[38;5;241m=\u001B[39m Path(\u001B[38;5;28mself\u001B[39m\u001B[38;5;241m.\u001B[39mdata_dir \u001B[38;5;129;01mor\u001B[39;00m \u001B[38;5;124m\"\u001B[39m\u001B[38;5;124m\"\u001B[39m)\u001B[38;5;241m.\u001B[39mexpanduser()\u001B[38;5;241m.\u001B[39mresolve()\u001B[38;5;241m.\u001B[39mas_posix()\n\u001B[0;32m    939\u001B[0m patterns \u001B[38;5;241m=\u001B[39m (\n\u001B[0;32m    940\u001B[0m     sanitize_patterns(\u001B[38;5;28mself\u001B[39m\u001B[38;5;241m.\u001B[39mdata_files)\n\u001B[0;32m    941\u001B[0m     \u001B[38;5;28;01mif\u001B[39;00m \u001B[38;5;28mself\u001B[39m\u001B[38;5;241m.\u001B[39mdata_files \u001B[38;5;129;01mis\u001B[39;00m \u001B[38;5;129;01mnot\u001B[39;00m \u001B[38;5;28;01mNone\u001B[39;00m\n\u001B[0;32m    942\u001B[0m     \u001B[38;5;28;01melse\u001B[39;00m get_data_patterns(base_path, download_config\u001B[38;5;241m=\u001B[39m\u001B[38;5;28mself\u001B[39m\u001B[38;5;241m.\u001B[39mdownload_config)\n\u001B[0;32m    943\u001B[0m )\n\u001B[1;32m--> 944\u001B[0m data_files \u001B[38;5;241m=\u001B[39m \u001B[43mDataFilesDict\u001B[49m\u001B[38;5;241;43m.\u001B[39;49m\u001B[43mfrom_patterns\u001B[49m\u001B[43m(\u001B[49m\n\u001B[0;32m    945\u001B[0m \u001B[43m    \u001B[49m\u001B[43mpatterns\u001B[49m\u001B[43m,\u001B[49m\n\u001B[0;32m    946\u001B[0m \u001B[43m    \u001B[49m\u001B[43mdownload_config\u001B[49m\u001B[38;5;241;43m=\u001B[39;49m\u001B[38;5;28;43mself\u001B[39;49m\u001B[38;5;241;43m.\u001B[39;49m\u001B[43mdownload_config\u001B[49m\u001B[43m,\u001B[49m\n\u001B[0;32m    947\u001B[0m \u001B[43m    \u001B[49m\u001B[43mbase_path\u001B[49m\u001B[38;5;241;43m=\u001B[39;49m\u001B[43mbase_path\u001B[49m\u001B[43m,\u001B[49m\n\u001B[0;32m    948\u001B[0m \u001B[43m\u001B[49m\u001B[43m)\u001B[49m\n\u001B[0;32m    949\u001B[0m supports_metadata \u001B[38;5;241m=\u001B[39m \u001B[38;5;28mself\u001B[39m\u001B[38;5;241m.\u001B[39mname \u001B[38;5;129;01min\u001B[39;00m _MODULE_SUPPORTS_METADATA\n\u001B[0;32m    950\u001B[0m \u001B[38;5;28;01mif\u001B[39;00m \u001B[38;5;28mself\u001B[39m\u001B[38;5;241m.\u001B[39mdata_files \u001B[38;5;129;01mis\u001B[39;00m \u001B[38;5;28;01mNone\u001B[39;00m \u001B[38;5;129;01mand\u001B[39;00m supports_metadata \u001B[38;5;129;01mand\u001B[39;00m patterns \u001B[38;5;241m!=\u001B[39m DEFAULT_PATTERNS_ALL:\n",
      "File \u001B[1;32mD:\\Anaconda\\envs\\llm\\lib\\site-packages\\datasets\\data_files.py:721\u001B[0m, in \u001B[0;36mDataFilesDict.from_patterns\u001B[1;34m(cls, patterns, base_path, allowed_extensions, download_config)\u001B[0m\n\u001B[0;32m    716\u001B[0m out \u001B[38;5;241m=\u001B[39m \u001B[38;5;28mcls\u001B[39m()\n\u001B[0;32m    717\u001B[0m \u001B[38;5;28;01mfor\u001B[39;00m key, patterns_for_key \u001B[38;5;129;01min\u001B[39;00m patterns\u001B[38;5;241m.\u001B[39mitems():\n\u001B[0;32m    718\u001B[0m     out[key] \u001B[38;5;241m=\u001B[39m (\n\u001B[0;32m    719\u001B[0m         patterns_for_key\n\u001B[0;32m    720\u001B[0m         \u001B[38;5;28;01mif\u001B[39;00m \u001B[38;5;28misinstance\u001B[39m(patterns_for_key, DataFilesList)\n\u001B[1;32m--> 721\u001B[0m         \u001B[38;5;28;01melse\u001B[39;00m \u001B[43mDataFilesList\u001B[49m\u001B[38;5;241;43m.\u001B[39;49m\u001B[43mfrom_patterns\u001B[49m\u001B[43m(\u001B[49m\n\u001B[0;32m    722\u001B[0m \u001B[43m            \u001B[49m\u001B[43mpatterns_for_key\u001B[49m\u001B[43m,\u001B[49m\n\u001B[0;32m    723\u001B[0m \u001B[43m            \u001B[49m\u001B[43mbase_path\u001B[49m\u001B[38;5;241;43m=\u001B[39;49m\u001B[43mbase_path\u001B[49m\u001B[43m,\u001B[49m\n\u001B[0;32m    724\u001B[0m \u001B[43m            \u001B[49m\u001B[43mallowed_extensions\u001B[49m\u001B[38;5;241;43m=\u001B[39;49m\u001B[43mallowed_extensions\u001B[49m\u001B[43m,\u001B[49m\n\u001B[0;32m    725\u001B[0m \u001B[43m            \u001B[49m\u001B[43mdownload_config\u001B[49m\u001B[38;5;241;43m=\u001B[39;49m\u001B[43mdownload_config\u001B[49m\u001B[43m,\u001B[49m\n\u001B[0;32m    726\u001B[0m \u001B[43m        \u001B[49m\u001B[43m)\u001B[49m\n\u001B[0;32m    727\u001B[0m     )\n\u001B[0;32m    728\u001B[0m \u001B[38;5;28;01mreturn\u001B[39;00m out\n",
      "File \u001B[1;32mD:\\Anaconda\\envs\\llm\\lib\\site-packages\\datasets\\data_files.py:624\u001B[0m, in \u001B[0;36mDataFilesList.from_patterns\u001B[1;34m(cls, patterns, base_path, allowed_extensions, download_config)\u001B[0m\n\u001B[0;32m    621\u001B[0m \u001B[38;5;28;01mfor\u001B[39;00m pattern \u001B[38;5;129;01min\u001B[39;00m patterns:\n\u001B[0;32m    622\u001B[0m     \u001B[38;5;28;01mtry\u001B[39;00m:\n\u001B[0;32m    623\u001B[0m         data_files\u001B[38;5;241m.\u001B[39mextend(\n\u001B[1;32m--> 624\u001B[0m             \u001B[43mresolve_pattern\u001B[49m\u001B[43m(\u001B[49m\n\u001B[0;32m    625\u001B[0m \u001B[43m                \u001B[49m\u001B[43mpattern\u001B[49m\u001B[43m,\u001B[49m\n\u001B[0;32m    626\u001B[0m \u001B[43m                \u001B[49m\u001B[43mbase_path\u001B[49m\u001B[38;5;241;43m=\u001B[39;49m\u001B[43mbase_path\u001B[49m\u001B[43m,\u001B[49m\n\u001B[0;32m    627\u001B[0m \u001B[43m                \u001B[49m\u001B[43mallowed_extensions\u001B[49m\u001B[38;5;241;43m=\u001B[39;49m\u001B[43mallowed_extensions\u001B[49m\u001B[43m,\u001B[49m\n\u001B[0;32m    628\u001B[0m \u001B[43m                \u001B[49m\u001B[43mdownload_config\u001B[49m\u001B[38;5;241;43m=\u001B[39;49m\u001B[43mdownload_config\u001B[49m\u001B[43m,\u001B[49m\n\u001B[0;32m    629\u001B[0m \u001B[43m            \u001B[49m\u001B[43m)\u001B[49m\n\u001B[0;32m    630\u001B[0m         )\n\u001B[0;32m    631\u001B[0m     \u001B[38;5;28;01mexcept\u001B[39;00m \u001B[38;5;167;01mFileNotFoundError\u001B[39;00m:\n\u001B[0;32m    632\u001B[0m         \u001B[38;5;28;01mif\u001B[39;00m \u001B[38;5;129;01mnot\u001B[39;00m has_magic(pattern):\n",
      "File \u001B[1;32mD:\\Anaconda\\envs\\llm\\lib\\site-packages\\datasets\\data_files.py:411\u001B[0m, in \u001B[0;36mresolve_pattern\u001B[1;34m(pattern, base_path, allowed_extensions, download_config)\u001B[0m\n\u001B[0;32m    409\u001B[0m     \u001B[38;5;28;01mif\u001B[39;00m allowed_extensions \u001B[38;5;129;01mis\u001B[39;00m \u001B[38;5;129;01mnot\u001B[39;00m \u001B[38;5;28;01mNone\u001B[39;00m:\n\u001B[0;32m    410\u001B[0m         error_msg \u001B[38;5;241m+\u001B[39m\u001B[38;5;241m=\u001B[39m \u001B[38;5;124mf\u001B[39m\u001B[38;5;124m\"\u001B[39m\u001B[38;5;124m with any supported extension \u001B[39m\u001B[38;5;132;01m{\u001B[39;00m\u001B[38;5;28mlist\u001B[39m(allowed_extensions)\u001B[38;5;132;01m}\u001B[39;00m\u001B[38;5;124m\"\u001B[39m\n\u001B[1;32m--> 411\u001B[0m     \u001B[38;5;28;01mraise\u001B[39;00m \u001B[38;5;167;01mFileNotFoundError\u001B[39;00m(error_msg)\n\u001B[0;32m    412\u001B[0m \u001B[38;5;28;01mreturn\u001B[39;00m out\n",
      "\u001B[1;31mFileNotFoundError\u001B[0m: Unable to find 'D:\\Develop\\tianchi\\train-data'"
     ]
    }
   ],
   "source": [
    "import re\n",
    "import json\n",
    "from datasets import load_dataset, DatasetDict\n",
    "\n",
    "\n",
    "# —— 工具函数 —— #\n",
    "def split_sentences(text: str):\n",
    "    \"\"\"\n",
    "    按中文标点切分古诗为独立句子，保留标点。\n",
    "    \"\"\"\n",
    "    text = text.strip()\n",
    "    if text and text[-1] not in \"。！？；\":\n",
    "        text += \"。\"\n",
    "    parts = re.split(r'(?<=[。！？；])', text)\n",
    "    return [p.strip() for p in parts if p.strip()]\n",
    "\n",
    "\n",
    "# 训练集情感映射（示例，可按实际标签补充）\n",
    "EMOTION2ID = {\n",
    "    \"爱国\": 0,\n",
    "    \"庆祝\": 1,\n",
    "    \"咏史\": 2,\n",
    "    \"思乡\": 3,\n",
    "    \"惆怅与无奈\": 4,\n",
    "    # ……\n",
    "}\n",
    "\n",
    "\n",
    "def encode_emotion_train(emotion: str) -> int:\n",
    "    return EMOTION2ID.get(emotion, -1)\n",
    "\n",
    "\n",
    "# —— 预处理函数 —— #\n",
    "def preprocess_train(example):\n",
    "    \"\"\"\n",
    "    训练集样本包含：title, content, keywords(dict), trans, emotion(str)\n",
    "    输出：\n",
    "      - input_text: prompt\n",
    "      - label_text: JSON 字符串，含 ans_qa_words、ans_qa_sents（直接用 trans 拆解）和 choose_id\n",
    "    \"\"\"\n",
    "    title = example[\"title\"].strip()\n",
    "    content = example[\"content\"].strip()\n",
    "    keywords = list(example[\"keywords\"].keys())\n",
    "    trans = example[\"trans\"].strip()\n",
    "    emotion = example[\"emotion\"].strip()\n",
    "\n",
    "    # 句子列表：从 content 拆分\n",
    "    sentences = split_sentences(content)\n",
    "    # 从 trans 拆分得到对应的白话句列表\n",
    "    trans_sents = split_sentences(trans)\n",
    "\n",
    "    # 构造 prompt\n",
    "    prompt = (\n",
    "        f\"诗题：{title}；内容：{content}；\\n\"\n",
    "        f\"关键词：{keywords}；\\n\"\n",
    "        f\"请为每个关键词和以下每一句诗生成白话解释，并判断情感类别。\\n\"\n",
    "        f\"诗句列表：{sentences}。\\n\"\n",
    "        \"输出格式（JSON）：{ans_qa_words:…, ans_qa_sents:…, choose_id:…}\"\n",
    "    )\n",
    "    # 构造 label\n",
    "    ans_qa_words = {kw: example[\"keywords\"][kw] for kw in keywords}\n",
    "    ans_qa_sents = {s: t for s, t in zip(sentences, trans_sents)}\n",
    "    choose_id = encode_emotion_train(emotion)\n",
    "\n",
    "    label = {\n",
    "        \"ans_qa_words\": ans_qa_words,\n",
    "        \"ans_qa_sents\": ans_qa_sents,\n",
    "        \"choose_id\": choose_id\n",
    "    }\n",
    "    return {\n",
    "        \"input_text\": prompt,\n",
    "        \"label_text\": json.dumps(label, ensure_ascii=False)\n",
    "    }\n",
    "\n",
    "\n",
    "def preprocess_val(example):\n",
    "    \"\"\"\n",
    "    验证集样本包含：idx, title, author, content, qa_words(list), qa_sents(list), choose(dict)\n",
    "    输出：\n",
    "      - input_text: prompt（与训练一致的格式，供模型推理）\n",
    "      - qa_words, qa_sents, choose: 原始字段保留，用于后续评估\n",
    "    \"\"\"\n",
    "    title = example[\"title\"].strip()\n",
    "    content = example[\"content\"].strip()\n",
    "    qa_words = example[\"qa_words\"]\n",
    "    qa_sents = example[\"qa_sents\"]\n",
    "    choose = example[\"choose\"]  # e.g. {\"A\":\"欢快\", \"B\":\"无奈\", …}\n",
    "\n",
    "    # 构造 prompt，与训练时一致，只不过不附带答案\n",
    "    prompt = (\n",
    "        f\"诗题：{title}；内容：{content}；\\n\"\n",
    "        f\"关键词：{qa_words}；\\n\"\n",
    "        f\"请为每个关键词和以下每一句诗生成白话解释，并判断情感类别。\\n\"\n",
    "        f\"诗句列表：{qa_sents}。\\n\"\n",
    "        \"输出格式（JSON）：{ans_qa_words:…, ans_qa_sents:…, choose_id:…}\"\n",
    "    )\n",
    "    # 返回输入，以及保留的原始选项和 idx，便于后续解析和评测\n",
    "    return {\n",
    "        \"idx\": example[\"idx\"],\n",
    "        \"input_text\": prompt,\n",
    "        \"qa_words\": qa_words,\n",
    "        \"qa_sents\": qa_sents,\n",
    "        \"choose\": choose\n",
    "    }\n",
    "\n",
    "\n",
    "# 1. 加载原始训练/验证 JSON\n",
    "# 假设文件 train.json、val.json 分别为训练、验证集\n",
    "raw = load_dataset(\"json\", data_files={\"train\": \"./train_data.json\"})\n"
   ]
  },
  {
   "cell_type": "code",
   "outputs": [
    {
     "data": {
      "text/plain": "DatasetDict({\n    train: Dataset({\n        features: ['title', 'content', 'keywords', 'trans', 'emotion'],\n        num_rows: 164\n    })\n})"
     },
     "execution_count": 8,
     "metadata": {},
     "output_type": "execute_result"
    }
   ],
   "source": [
    "raw"
   ],
   "metadata": {
    "collapsed": false,
    "ExecuteTime": {
     "end_time": "2025-04-25T06:13:03.989224Z",
     "start_time": "2025-04-25T06:13:03.950894300Z"
    }
   },
   "id": "852056533b4d9191",
   "execution_count": 8
  },
  {
   "cell_type": "code",
   "outputs": [
    {
     "data": {
      "text/plain": "{'title': '奉和中书舍人贾至早朝大明宫',\n 'content': '鸡鸣紫陌曙光寒，莺啭皇州春色阑。金阙晓钟开万户，玉阶仙仗拥千官。花迎剑佩星初落，柳拂旌旗露未干。独有凤凰池上客，阳春一曲和皆难。',\n 'keywords': {'“时时”句': None,\n  '一': None,\n  '一夜雨': None,\n  '一箭风快': None,\n  '一轮玉': None,\n  '一饷': None,\n  '丁未': None,\n  '丁未元日': None,\n  '丁香': None,\n  '万壑松': None,\n  '万户': '指皇宫中宫门。',\n  '万花川谷': None,\n  '万象': None,\n  '万里': None,\n  '万重山': None,\n  '万面鼓声中': None,\n  '三十六陂': None,\n  '三山': None,\n  '三日': None,\n  '三更': None,\n  '三湘': None,\n  '三秦': None,\n  '上元': None,\n  '上头': None,\n  '上将': None,\n  '上苑': None,\n  '下': None,\n  '下邽': None,\n  '不解': None,\n  '不须': None,\n  '且': None,\n  '世业': None,\n  '世路': None,\n  '丙辰岁': None,\n  '东君': None,\n  '东阳': None,\n  '丝丝弄碧': None,\n  '丝方尽': None,\n  '中书舍人': '官名，时贾至任此职。',\n  '中圣': None,\n  '中岁': None,\n  '中都': None,\n  '临': None,\n  '丹陛': None,\n  '为异客': None,\n  '举杯': None,\n  '之': None,\n  '乌江十五兄': None,\n  '乌鸦': None,\n  '乍': None,\n  '乍窥门户': None,\n  '乐': None,\n  '乔木': None,\n  '乘兴句': None,\n  '九十': None,\n  '九月九日': None,\n  '九派': None,\n  '九秋蓬': None,\n  '九重': None,\n  '习静': None,\n  '乡书': None,\n  '乡心': None,\n  '乱': None,\n  '乱红': None,\n  '乾龙节': None,\n  '了': None,\n  '争席罢': None,\n  '争忍': None,\n  '事君': None,\n  '二十余年': None,\n  '二十四桥': None,\n  '二水': None,\n  '云屏': None,\n  '云母屏风': None,\n  '云罗': None,\n  '云鬓': None,\n  '五处': None,\n  '五柳': None,\n  '五津': None,\n  '京华倦客': None,\n  '京洛': None,\n  '亭堠': None,\n  '亸': None,\n  '人处': None,\n  '今宵': None,\n  '仍': None,\n  '从': None,\n  '从君': None,\n  '从容': None,\n  '从弟': None,\n  '他年': None,\n  '仙仗': '天子的仪仗。',\n  '休': None,\n  '会': None,\n  '传语': None,\n  '伤心': None,\n  '伫倚危楼': None,\n  '伫立': None,\n  '但': None,\n  '但使': None,\n  '但莫管': None,\n  '住': None,\n  '何当': None,\n  '何所之': None,\n  '何许': None,\n  '何逊': None,\n  '何须': None,\n  '余': None,\n  '余响': None,\n  '佳丽地': None,\n  '佳节': None,\n  '依稀': None,\n  '侯万户': None,\n  '侵晓': None,\n  '俄倾': None,\n  '修竹': None,\n  '候馆': None,\n  '倚': None,\n  '倚杖': None,\n  '值': None,\n  '停红烛': None,\n  '傅脂粉': None,\n  '储胥': None,\n  '催': None,\n  '元夜': None,\n  '先贤': None,\n  '入云峰': None,\n  '入京使': None,\n  '入时无': None,\n  '八骏': None,\n  '六丑': None,\n  '六朝': None,\n  '兰台': None,\n  '兰杜': None,\n  '兰红': None,\n  '兰舟': None,\n  '兰陵王': None,\n  '共': None,\n  '关内': None,\n  '兽烟': None,\n  '冉冉': None,\n  '写入琴丝': None,\n  '冥冥（míng）': None,\n  '冯正中': None,\n  '冰心': None,\n  '冰雪': None,\n  '冷青松': None,\n  '凄切': None,\n  '凄恻': None,\n  '准拟': None,\n  '凉州词': None,\n  '凋': None,\n  '凌波': None,\n  '凝噎': None,\n  '凝妆': None,\n  '凝睇': None,\n  '几盈虚': None,\n  '几许': None,\n  '凤凰台': None,\n  '凤凰池上客': '指贾至。凤凰池，也称凤池，这里指中书省。',\n  '凤城': None,\n  '凤尾香罗': None,\n  '凤箫吟': None,\n  '凭': None,\n  '凭高': None,\n  '分曹': None,\n  '分野': None,\n  '刘国华': None,\n  '判官': None,\n  '别': None,\n  '别情': None,\n  '别浦': None,\n  '别馆': None,\n  '前席': None,\n  '前缘': None,\n  '剑佩': '带剑、垂佩绶，都为高官之饰物，此指禁卫军的武装。',\n  '剪西窗烛': None,\n  '匆匆': None,\n  '北固山': None,\n  '北斗': None,\n  '十三余': None,\n  '十年一梦扬州路': None,\n  '千岩老人': None,\n  '千嶂': None,\n  '千树': None,\n  '千里目': None,\n  '千里雁': None,\n  '千门': None,\n  '午桥': None,\n  '半篙波暖': None,\n  '半落青天外': None,\n  '华胥（xū）': None,\n  '卑': None,\n  '单衾': None,\n  '南山': None,\n  '南山陲': None,\n  '南朝盛事': None,\n  '南浦': None,\n  '卢纶': None,\n  '卧病': None,\n  '危': None,\n  '危阑': None,\n  '即此': None,\n  '却话': None,\n  '原不忝': None,\n  '去': None,\n  '去去': None,\n  '去棹': None,\n  '参差': None,\n  '又': None,\n  '及春': None,\n  '双凤阙': None,\n  '双鲤': None,\n  '发': None,\n  '受降城': None,\n  '叟': None,\n  '古渡': None,\n  '可堪': None,\n  '可怜': None,\n  '叶下': None,\n  '合欢': None,\n  '吊影': None,\n  '同': None,\n  '同交欢': None,\n  '向': None,\n  '向人欹侧': None,\n  '君': None,\n  '听暮蝉': None,\n  '吴': None,\n  '吴宫': None,\n  '吴山': None,\n  '吴松': None,\n  '吴盐': None,\n  '吴门': None,\n  '吹': None,\n  '吹角': None,\n  '吹解带': None,\n  '呼晴': None,\n  '和': '即和诗，是用来和答他人诗作的诗，依照别人诗词的格律或内容作诗词。可和韵，可不和韵。',\n  '和春': None,\n  '咽': None,\n  '唯见': None,\n  '商女': None,\n  '商略': None,\n  '啭': '婉转的叫声。',\n  '啮': None,\n  '啸': None,\n  '啸（xiào）': None,\n  '啼': None,\n  '啼血': None,\n  '喧哗': None,\n  '回乐烽': None,\n  '圆蟾': None,\n  '坊陌': None,\n  '坐中': None,\n  '坠楼人': None,\n  '垂纶': None,\n  '垂虹亭': None,\n  '城阙': None,\n  '堆烟': None,\n  '堪惊': None,\n  '塞': None,\n  '墟落': None,\n  '墟里': None,\n  '壑': None,\n  '壶山居士': None,\n  '复': None,\n  '夏木': None,\n  '多情为谁追惜': None,\n  '多情句': None,\n  '夜光杯': None,\n  '夜夜心': None,\n  '夜游宫': None,\n  '大庾岭': None,\n  '大明宫': '宫殿名，在长安禁苑南。',\n  '大白': None,\n  '大荒': None,\n  '天书': None,\n  '天仗': None,\n  '天涯': None,\n  '天都': None,\n  '天际': None,\n  '天际流': None,\n  '天随': None,\n  '太乙': None,\n  '太湖': None,\n  '夷犹': None,\n  '奇绝': None,\n  '奉': None,\n  '奠': None,\n  '女墙': None,\n  '奴': None,\n  '好': None,\n  '好风日': None,\n  '如水': None,\n  '如簇': None,\n  '妾身': None,\n  '姑食性': None,\n  '姮娥': None,\n  '娉娉袅袅': None,\n  '婵娟': None,\n  '嫦娥': None,\n  '孟夫子': None,\n  '孟浩然': None,\n  '孤': None,\n  '孤光': None,\n  '孤城': None,\n  '孤烟': None,\n  '孤衾': None,\n  '安可希': None,\n  '安禅': None,\n  '宓妃': None,\n  '定': None,\n  '定巢燕子': None,\n  '客': None,\n  '客路': None,\n  '宣室': None,\n  '宦游': None,\n  '宪治': None,\n  '宫': None,\n  '宫花': None,\n  '宫词': None,\n  '宫锦': None,\n  '家': None,\n  '宸游': None,\n  '宿雨': None,\n  '寂寞': None,\n  '寄北': None,\n  '密约': None,\n  '寐': None,\n  '寒': None,\n  '寒光亭': None,\n  '寒雨': None,\n  '寒食': None,\n  '寥落': None,\n  '寸寸柔肠': None,\n  '寻常': None,\n  '射覆': None,\n  '将': None,\n  '尊': None,\n  '小妆': None,\n  '小姑': None,\n  '小姑一句': None,\n  '小怜': None,\n  '少府': None,\n  '尚': None,\n  '尽': None,\n  '屏山': None,\n  '山东': None,\n  '山中句': None,\n  '山染句': None,\n  '山桃': None,\n  '山翁': None,\n  '山阴': None,\n  '岁岁': None,\n  '岐王': None,\n  '岑寂': None,\n  '岭海': None,\n  '峨眉': None,\n  '崔九': None,\n  '嵩': None,\n  '嵩山': None,\n  '嵩高': None,\n  '工伎': None,\n  '工妓': None,\n  '左省': None,\n  '已': None,\n  '已而': None,\n  '巴': None,\n  '巴山': None,\n  '帐饮': None,\n  '帷': None,\n  '幄': None,\n  '干戈': None,\n  '平明': None,\n  '平林': None,\n  '平芜': None,\n  '平野': None,\n  '并刀': None,\n  '幽并': None,\n  '幽篁（huáng）': None,\n  '幽闲': None,\n  '广陵': None,\n  '应官': None,\n  '应折句': None,\n  '应觉': None,\n  '底事': None,\n  '废池': None,\n  '度': None,\n  '庾郎': None,\n  '异乡': None,\n  '弄潮儿': None,\n  '弄轻柔': None,\n  '式微': None,\n  '张少府': None,\n  '张水部': None,\n  '强': None,\n  '强乐': None,\n  '强簪巾帻': None,\n  '归休': None,\n  '归卧': None,\n  '归期': None,\n  '归雁': None,\n  '当': None,\n  '彤云': None,\n  '彩云间': None,\n  '影零乱': None,\n  '征': None,\n  '征人': None,\n  '征战': None,\n  '征新声': None,\n  '征辔': None,\n  '征鸿': None,\n  '徊徨': None,\n  '徒': None,\n  '御香': None,\n  '心寒': None,\n  '忆': None,\n  '忆潇湘': None,\n  '念': None,\n  '怜': None,\n  '思': None,\n  '怨': None,\n  '总是': None,\n  '恁': None,\n  '恁么': None,\n  '恐断红、尚相思字': None,\n  '恨': None,\n  '恩': None,\n  '悔教': None,\n  '悠悠': None,\n  '悬': None,\n  '悲壮': None,\n  '悲恨相续': None,\n  '惆怅': None,\n  '惊退万人争战气': None,\n  '惹': None,\n  '愔愔': None,\n  '慵将照': None,\n  '戍角': None,\n  '戏言': None,\n  '成古丘': None,\n  '扁舟': None,\n  '扇裁': None,\n  '才调': None,\n  '扣': None,\n  '扶疏': None,\n  '把玩': None,\n  '把酒': None,\n  '报沙鸥': None,\n  '拂水飘绵': None,\n  '拂面': None,\n  '拚': None,\n  '拜琐闱': None,\n  '拟把': None,\n  '拼': None,\n  '持谢': None,\n  '挂帆席': None,\n  '按歌声': None,\n  '挥手': None,\n  '挹': None,\n  '挼': None,\n  '授简索句': None,\n  '探看': None,\n  '接舆': None,\n  '掩': None,\n  '放': None,\n  '放夜': None,\n  '故乡水': None,\n  '故人': None,\n  '故园': None,\n  '故国': None,\n  '效颦': None,\n  '教': None,\n  '敛': None,\n  '敢辞': None,\n  '文不加点': None,\n  '文翁': None,\n  '斋': None,\n  '斑竹': None,\n  '斗帐': None,\n  '斗柄': None,\n  '斗鸭': None,\n  '斜阳': None,\n  '斜阳欲尽': None,\n  '断红': None,\n  '断虹': None,\n  '斯人': None,\n  '新晴': None,\n  '新月': None,\n  '於潜七兄': None,\n  '旅': None,\n  '旋': None,\n  '旌旗': '旗帜的总称。',\n  '无为': None,\n  '无情游': None,\n  '无相亲': None,\n  '无端': None,\n  '无绪': None,\n  '无计向': None,\n  '无还期': None,\n  '无那': None,\n  '无题': None,\n  '既': None,\n  '旧国': None,\n  '旧家秋娘': None,\n  '旧林': None,\n  '旧踪迹': None,\n  '时清': None,\n  '时难年荒': None,\n  '明年': None,\n  '明河': None,\n  '星河鹭起': None,\n  '春': None,\n  '春心': None,\n  '春无极': None,\n  '春衫': None,\n  '春雷': None,\n  '春风': None,\n  '春风十里': None,\n  '是事可可': None,\n  '晋代': None,\n  '晓星': None,\n  '晓镜': None,\n  '晚年': None,\n  '晼晚': None,\n  '暂满还亏': None,\n  '暖酥': None,\n  '暗几重': None,\n  '暗垂珠泪': None,\n  '暝色': None,\n  '暮禽': None,\n  '暮蝉': None,\n  '暮霭': None,\n  '曙光': '破晓时的阳光。',\n  '曲': None,\n  '曲径': None,\n  '更': None,\n  '更漏': None,\n  '曹': None,\n  '月光寒': None,\n  '月徘徊': None,\n  '月明': None,\n  '月榭': None,\n  '月皎': None,\n  '望乡处': None,\n  '望人': None,\n  '望人句': None,\n  '望极': None,\n  '朝': None,\n  '未': None,\n  '朱阑': None,\n  '朱颜': None,\n  '李伯纪': None,\n  '李龟年': None,\n  '杜宇': None,\n  '杜拾遗': None,\n  '杜郎': None,\n  '杜鹃': None,\n  '来日': None,\n  '杨柳': None,\n  '杨柳丝丝': None,\n  '杳杳': None,\n  '枝': None,\n  '枯': None,\n  '柔条': None,\n  '柔肠': None,\n  '柔蓝': None,\n  '柳': None,\n  '柳花': None,\n  '柳阴': None,\n  '柳阴直': None,\n  '柴扉': None,\n  '树杪': None,\n  '桂华': None,\n  '桂堂': None,\n  '桂影': None,\n  '桃根': None,\n  '桃花流水': None,\n  '桃蹊': None,\n  '梁园': None,\n  '梁父吟': None,\n  '梓州': None,\n  '梨花句': None,\n  '楚国': None,\n  '楚塞': None,\n  '楚天': None,\n  '楚客': None,\n  '楚宫倾国': None,\n  '楚山': None,\n  '楫': None,\n  '槿': None,\n  '横塘': None,\n  '樽': None,\n  '橘柚': None,\n  '橦布': None,\n  '次': None,\n  '欲': None,\n  '欹眠': None,\n  '止既月': None,\n  '武陵溪': None,\n  '歧路': None,\n  '殊': None,\n  '残垒': None,\n  '残夜': None,\n  '殷勤': None,\n  '毒龙': None,\n  '比邻': None,\n  '水佩风裳': None,\n  '水晶宫': None,\n  '永夜': None,\n  '永安': None,\n  '汀': None,\n  '汉女': None,\n  '汉宫': None,\n  '汉旗': None,\n  '汉江': None,\n  '江': None,\n  '江南': None,\n  '江国': None,\n  '江城子': None,\n  '江春': None,\n  '江楼': None,\n  '江陵': None,\n  '沈沈': None,\n  '沉沉': None,\n  '沉香': None,\n  '沔（miǎn）东': None,\n  '沙场': None,\n  '沙际': None,\n  '沙鸥': None,\n  '沧浪': None,\n  '河南': None,\n  '沽酒': None,\n  '沾巾': None,\n  '泥': None,\n  '泪始干': None,\n  '泪痕点点寄相思': None,\n  '洛城': None,\n  '洛阳': None,\n  '洞庭': None,\n  '洞房': None,\n  '洞门': None,\n  '津': None,\n  '津堠': None,\n  '流水': None,\n  '流芳': None,\n  '济时': None,\n  '浑': None,\n  '浣纱': None,\n  '浥': None,\n  '浦': None,\n  '浦深': None,\n  '浮云游子意': None,\n  '浮云蔽日': None,\n  '浮梁大兄': None,\n  '海内': None,\n  '海日': None,\n  '海棠三句': None,\n  '海楼': None,\n  '海隅': None,\n  '海鸥句': None,\n  '消得': None,\n  '润': None,\n  '淮南': None,\n  '淮左名都': None,\n  '深': None,\n  '深林': None,\n  '深浅': None,\n  '清厮酿': None,\n  '清圆': None,\n  '清川': None,\n  '清斋': None,\n  '清狂': None,\n  '清王鹏运': None,\n  '清角': None,\n  '渐': None,\n  '渔唱': None,\n  '渔家傲': None,\n  '渔歌': None,\n  '渚': None,\n  '渡头': None,\n  '渭川': None,\n  '渭水': None,\n  '游侠儿': None,\n  '游冶处': None,\n  '湖': None,\n  '湘春夜月': None,\n  '溅溅': None,\n  '溧水': None,\n  '溽暑': None,\n  '满江红': None,\n  '演漾': None,\n  '漠漠': None,\n  '漫与': None,\n  '漫漫': None,\n  '潇湘': None,\n  '潇湘神': None,\n  '潘岳': None,\n  '潮平两岸阔': None,\n  '潺湲': None,\n  '澄澄': None,\n  '澹': None,\n  '瀚海': None,\n  '灯如昼': None,\n  '灵犀': None,\n  '灵芝': None,\n  '灵药': None,\n  '炯炯': None,\n  '烟': None,\n  '烟光': None,\n  '烟火迟': None,\n  '烟花': None,\n  '焰蜡': None,\n  '熏笼': None,\n  '燎': None,\n  '燕子不知何世': None,\n  '燕然': None,\n  '燕然未勒': None,\n  '燕燕、莺莺': None,\n  '燕（yān）雁': None,\n  '片帆': None,\n  '牛渚': None,\n  '牧童': None,\n  '物华': None,\n  '特地': None,\n  '独': None,\n  '猿': None,\n  '猿鸟句': None,\n  '玄宗': None,\n  '玉人': None,\n  '玉佩': None,\n  '玉关': None,\n  '玉勒': None,\n  '玉壶': None,\n  '玉楼': None,\n  '玉珰': None,\n  '玉虎': None,\n  '玉门关': None,\n  '玉阶': '指皇宫中大明宫的台阶。',\n  '王孙': None,\n  '珍丛': None,\n  '珠箔': None,\n  '班马': None,\n  '理': None,\n  '琵琶': None,\n  '琵琶旧语': None,\n  '琼': None,\n  '琼轩': None,\n  '瑶池阿母': None,\n  '瑶瑟': None,\n  '瑶草': None,\n  '生天际': None,\n  '田家': None,\n  '田田': None,\n  '画图难足': None,\n  '画楼': None,\n  '画舫': None,\n  '疏影': None,\n  '疏狂': None,\n  '疏篱': None,\n  '疏香': None,\n  '病酒': None,\n  '瘴': None,\n  '登临送目': None,\n  '登高': None,\n  '白头宫女': None,\n  '白帝城': None,\n  '白日': None,\n  '白水': None,\n  '白袷衣': None,\n  '白门': None,\n  '白首': None,\n  '白鹭': None,\n  '白鹭洲': None,\n  '百事乖': None,\n  '皇州': '京都。',\n  '盈盈': None,\n  '目断': None,\n  '直是': None,\n  '直道': None,\n  '直道两句': None,\n  '相与': None,\n  '相思': None,\n  '相期邈云汉': None,\n  '相照': None,\n  '省': None,\n  '眉敛': None,\n  '看看': None,\n  '眸': None,\n  '着': None,\n  '矜': None,\n  '石湖': None,\n  '砌': None,\n  '砧杵': None,\n  '碧海青天': None,\n  '碧空尽': None,\n  '社日': None,\n  '社燕': None,\n  '神女': None,\n  '禁里': None,\n  '离宫': None,\n  '离席': None,\n  '离恨': None,\n  '离离': None,\n  '秋云': None,\n  '秋池': None,\n  '秋波': None,\n  '秦塞': None,\n  '秦楼': None,\n  '积雨': None,\n  '稚子': None,\n  '穆王': None,\n  '穷': None,\n  '穷巷': None,\n  '穷通': None,\n  '空林': None,\n  '空桑林': None,\n  '空樽': None,\n  '空知': None,\n  '窅冥': None,\n  '窈窕': None,\n  '竞渡': None,\n  '章台': None,\n  '章台路': None,\n  '竹里馆': None,\n  '符离': None,\n  '第四桥': None,\n  '笼鞋': None,\n  '策杖': None,\n  '筹笔驿': None,\n  '简': None,\n  '管': None,\n  '箬笠': None,\n  '粉泪': None,\n  '素娥': None,\n  '素手': None,\n  '素月': None,\n  '紫微': None,\n  '紫陌': '指京师的街道。',\n  '紫骝': None,\n  '繁华竞逐': None,\n  '红': None,\n  '红旗': None,\n  '红旗高举': None,\n  '红楼': None,\n  '红浪': None,\n  '红玉阶': None,\n  '红素': None,\n  '红英': None,\n  '红药': None,\n  '红莲': None,\n  '红萼': None,\n  '红豆': None,\n  '红颜': None,\n  '红颜句': None,\n  '纤纤': None,\n  '约略': None,\n  '纵': None,\n  '终南山': None,\n  '终须': None,\n  '经年': None,\n  '绝': None,\n  '绣帏': None,\n  '绮窗': None,\n  '维扬': None,\n  '绿': None,\n  '绿妒轻裙': None,\n  '绿绮': None,\n  '绿酒': None,\n  '缄札': None,\n  '缘': None,\n  '羁旅': None,\n  '羌笛': None,\n  '羌管': None,\n  '美人': None,\n  '羹汤': None,\n  '翠尊': None,\n  '翠楼': None,\n  '翠玉楼': None,\n  '翠禽': None,\n  '翩然': None,\n  '翻': None,\n  '老': None,\n  '者次第': None,\n  '耿': None,\n  '联步': None,\n  '肝肺': None,\n  '胜事': None,\n  '胡尘': None,\n  '胡笳': None,\n  '胡马': None,\n  '胡马窥江': None,\n  '腻云': None,\n  '自': None,\n  '自兹去': None,\n  '自有分': None,\n  '自顾': None,\n  '至': None,\n  '舅姑': None,\n  '芋田': None,\n  '芙蓉塘': None,\n  '芙蓉楼': None,\n  '芙蓉浦': None,\n  '芦管': None,\n  '花市': None,\n  '花腮': None,\n  '芳': None,\n  '芳菲歇': None,\n  '苍生': None,\n  '苏幕遮': None,\n  '茂陵': None,\n  '茗碗': None,\n  '茱萸': None,\n  '荆扉': None,\n  '荆门': None,\n  '草未凋': None,\n  '草薰': None,\n  '荒城': None,\n  '荠麦': None,\n  '荣': None,\n  '荩箧': None,\n  '荷': None,\n  '莫愁': None,\n  '菡萏': None,\n  '菰蒲': None,\n  '菱花': None,\n  '萋萋': None,\n  '萦': None,\n  '萦回': None,\n  '萧关': None,\n  '萧娘': None,\n  '萧萧': None,\n  '萧骚': None,\n  '落花时节': None,\n  '著花': None,\n  '蒲团': None,\n  '蓑衣': None,\n  '蓦山溪': None,\n  '蓬': None,\n  '蓬山': None,\n  '蓼岸': None,\n  '蔡家亲': None,\n  '薄': None,\n  '薄暮': None,\n  '藜': None,\n  '藿': None,\n  '虚': None,\n  '蚕眠': None,\n  '蛩': None,\n  '蛮笺象管': None,\n  '蜀僧濬': None,\n  '蜀州': None,\n  '蜀江': None,\n  '蜡炬': None,\n  '蝶恋花': None,\n  '螺杯': None,\n  '行云': None,\n  '行如缀': None,\n  '行宫': None,\n  '行看尽': None,\n  '行色': None,\n  '衔得': None,\n  '衡阳雁去': None,\n  '衣冠': None,\n  '衣带渐宽': None,\n  '表里': None,\n  '衰': None,\n  '裴回': None,\n  '裴迪': None,\n  '襟袖冷': None,\n  '西塞山': None,\n  '西施': None,\n  '西江': None,\n  '西河': None,\n  '西飞雁': None,\n  '要斩楼兰': None,\n  '见': None,\n  '见宿': None,\n  '觅': None,\n  '觅封侯': None,\n  '觉': None,\n  '解带': None,\n  '解朝衣': None,\n  '解语花': None,\n  '解鞍少驻初程': None,\n  '论': None,\n  '诉衷情': None,\n  '试梅妆': None,\n  '试花': None,\n  '试酒': None,\n  '诚斋': None,\n  '诚知': None,\n  '诣': None,\n  '谁行': None,\n  '谁道句': None,\n  '调名': None,\n  '谏书': None,\n  '谏书函': None,\n  '谒金门': None,\n  ...},\n 'trans': '雄鸡啼鸣，曙光微寒，黄莺婉转，春色正浓。宫殿的钟声催开万户，玉阶上仪仗拥簇千官。花迎朝臣，繁星初落，柳拂旌旗，露水未干。只有凤凰池上的客人，阳春的高雅曲调无人能和。',\n 'emotion': '渴望繁荣与美好生活的心情'}"
     },
     "execution_count": 11,
     "metadata": {},
     "output_type": "execute_result"
    }
   ],
   "source": [
    "raw[\"train\"]9"
   ],
   "metadata": {
    "collapsed": false,
    "ExecuteTime": {
     "end_time": "2025-04-25T06:14:00.754467100Z",
     "start_time": "2025-04-25T06:14:00.711859400Z"
    }
   },
   "id": "3b11d035da3484c0",
   "execution_count": 11
  },
  {
   "cell_type": "code",
   "outputs": [],
   "source": [
    "# 2. 分别 map 训练/验证预处理\n",
    "processed = DatasetDict({\n",
    "    \"train\": raw[\"train\"].map(preprocess_train, remove_columns=raw[\"train\"].column_names),\n",
    "    \"validation\": raw[\"validation\"].map(preprocess_val, remove_columns=raw[\"validation\"].column_names)\n",
    "})\n",
    "\n",
    "# 3. 保存到磁盘（可选）\n",
    "processed.save_to_disk(\"processed_poetry\")\n",
    "# 或者导出为 JSON lines\n",
    "processed[\"train\"].to_json(\"processed_poetry/train.jsonl\")\n",
    "processed[\"validation\"].to_json(\"processed_poetry/val.jsonl\")\n",
    "\n",
    "print(\"预处理完成，输出目录：processed_poetry/\")"
   ],
   "metadata": {
    "collapsed": false
   },
   "id": "6581e1979d3d25e3"
  },
  {
   "cell_type": "code",
   "outputs": [],
   "source": [
    ", \"validation\": \"./eval_data.json\""
   ],
   "metadata": {
    "collapsed": false
   },
   "id": "9095e556506af3d"
  }
 ],
 "metadata": {
  "kernelspec": {
   "display_name": "Python 3",
   "language": "python",
   "name": "python3"
  },
  "language_info": {
   "codemirror_mode": {
    "name": "ipython",
    "version": 2
   },
   "file_extension": ".py",
   "mimetype": "text/x-python",
   "name": "python",
   "nbconvert_exporter": "python",
   "pygments_lexer": "ipython2",
   "version": "2.7.6"
  }
 },
 "nbformat": 4,
 "nbformat_minor": 5
}
