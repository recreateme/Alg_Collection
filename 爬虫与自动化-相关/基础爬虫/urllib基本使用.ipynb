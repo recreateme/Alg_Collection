{
 "cells": [
  {
   "cell_type": "code",
   "execution_count": 12,
   "id": "initial_id",
   "metadata": {
    "collapsed": true,
    "ExecuteTime": {
     "end_time": "2025-03-16T10:13:38.575681800Z",
     "start_time": "2025-03-16T10:13:38.168930400Z"
    }
   },
   "outputs": [
    {
     "name": "stdout",
     "output_type": "stream",
     "text": [
      "200\n",
      "<!DOCTYPE html><!--S\n",
      "https://www.baidu.com\n",
      "[('Bdpagetype', '1'), ('Bdqid', '0x9bfbb4b000e22fe1'), ('Content-Length', '502113'), ('Content-Type', 'text/html; charset=utf-8'), ('Date', 'Sun, 16 Mar 2025 10:13:38 GMT'), ('Server', 'BWS/1.1'), ('Set-Cookie', 'BIDUPSID=2C5A24A6F58DA3BBE9A344E6D3C1759C; expires=Thu, 31-Dec-37 23:55:55 GMT; max-age=2147483647; path=/; domain=.baidu.com'), ('Set-Cookie', 'PSTM=1742120018; expires=Thu, 31-Dec-37 23:55:55 GMT; max-age=2147483647; path=/; domain=.baidu.com'), ('Set-Cookie', 'H_PS_PSSID=60275_61027_62325_62340_62347_62391_62392_62420_62423_62475_62482_62485_62492_62456_62454_62453_62450_62563; path=/; expires=Mon, 16-Mar-26 10:13:38 GMT; domain=.baidu.com'), ('Set-Cookie', 'BDSVRTM=4; path=/'), ('Set-Cookie', 'BD_HOME=1; path=/'), ('Set-Cookie', 'BAIDUID=2C5A24A6F58DA3BBE9A344E6D3C1759C:FG=1; Path=/; Domain=baidu.com; Max-Age=31536000'), ('Set-Cookie', 'BAIDUID_BFESS=2C5A24A6F58DA3BBE9A344E6D3C1759C:FG=1; Path=/; Domain=baidu.com; Max-Age=31536000; Secure; SameSite=None'), ('Strict-Transport-Security', 'max-age=172800'), ('Traceid', '1742120018243668276211239775963055271905'), ('Vary', 'Accept-Encoding'), ('X-Ua-Compatible', 'IE=Edge,chrome=1'), ('X-Xss-Protection', '1;mode=block'), ('Connection', 'close')]\n"
     ]
    }
   ],
   "source": [
    "import urllib.request\n",
    "import urllib.parse\n",
    "\n",
    "url = \"https://www.baidu.com\"     # 目标网址\n",
    "\n",
    "# 设置请求头\n",
    "headers = {\n",
    "    \"User-Agent\": \"Mozilla/5.0 (Windows NT 10.0; Win64; x64) AppleWebKit/537.36 (KHTML, like Gecko) Chrome/58.0.3029.110 Safari/537.36\",\n",
    "    # \"Accept\": \"text/html,application/xhtml+xml,application/xml;q=0.9,image/webp,*/*;q=0.8\",\n",
    "    # \"Accept-Encoding\": \"gzip, deflate, sdch, br\",\n",
    "    # \"Accept-Language\": \"zh-CN,zh;q=0.8,en;q=0.6\",\n",
    "    # \"Connection\": \"keep-alive\"\n",
    "}\n",
    "\n",
    "request = urllib.request.Request(url, headers=headers)          # 构造请求对象\n",
    "response = urllib.request.urlopen(request)\n",
    "print(response.getcode())\n",
    "\n",
    "html = response.read(20).decode(\"utf-8\")                          # 读取响应内容并解码\n",
    "print(html)\n",
    "\n",
    "print(response.geturl())                                        # 获取实际请求的URL    \n",
    "print(response.getheaders())                                    # 获取响应头信息"
   ]
  },
  {
   "cell_type": "markdown",
   "source": [
    "##  urllib下载"
   ],
   "metadata": {
    "collapsed": false
   },
   "id": "b7b830e68be60e0a"
  },
  {
   "cell_type": "code",
   "outputs": [
    {
     "name": "stdout",
     "output_type": "stream",
     "text": [
      "200\n",
      "<!DOCTYPE html><!--STATUS OK--><html><head><meta http-equiv=\"Content-Type\" content=\"text/html;charset=utf-8\"><meta http-equiv=\"X-UA-Compatible\" content=\"IE=edge,chrome=1\"><meta content=\"origin-when-cr\n"
     ]
    }
   ],
   "source": [
    "import urllib.request\n",
    "\n",
    "url = \"https://www.baidu.com\"\n",
    "\n",
    "headers = {\n",
    "    \"User-Agent\": \"Mozilla/5.0 (Windows NT 10.0; Win64; x64) AppleWebKit/537.36 (KHTML, like Gecko) Chrome/58.0.3029.110 Safari/537.36\"\n",
    "}\n",
    "request = urllib.request.Request(url, headers=headers, method=\"post\")\n",
    "response = urllib.request.urlopen(request)\n",
    "# urllib.request.urlretrieve(url, \"baidu.html\")                  下载网页并保存到本地文件\n",
    "print(response.getcode())\n",
    "print(response.read(200).decode(\"utf-8\"))"
   ],
   "metadata": {
    "collapsed": false,
    "ExecuteTime": {
     "end_time": "2025-03-16T10:29:25.818955100Z",
     "start_time": "2025-03-16T10:29:25.367774500Z"
    }
   },
   "id": "7c6ef26f95c36ec2",
   "execution_count": 18
  },
  {
   "cell_type": "markdown",
   "source": [
    "## 不同请求方式的使用"
   ],
   "metadata": {
    "collapsed": false
   },
   "id": "c4d8c0cd676a8f37"
  },
  {
   "cell_type": "code",
   "outputs": [],
   "source": [
    "import urllib.request\n",
    "import urllib.parse\n",
    "import urllib.error\n",
    "\n",
    "def fetch_html(url, params=None, headers=None, method=\"GET\", timeout=10):\n",
    "    default_headers = {\n",
    "        \"User-Agent\": \"Mozilla/5.0 (Windows NT 10.0; Win64; x64) AppleWebKit/537.36 (KHTML, like Gecko) Chrome/90.0.4430.212 Safari/537.36\",\n",
    "        \"Accept\": \"text/html,application/xhtml+xml,application/xml;q=0.9,image/webp,*/*;q=0.8\"\n",
    "    }\n",
    "    headers = {**default_headers, **(headers or {})}\n",
    "\n",
    "    # 处理GET参数（网页4案例）\n",
    "    if method.upper() == \"GET\" and params:\n",
    "        url = f\"{url}?{urllib.parse.urlencode(params)}\"\n",
    "        params = None  # GET请求不使用data参数\n",
    "\n",
    "    # 编码POST参数（网页6/7关键点）\n",
    "    data = None\n",
    "    if params and method.upper() in [\"POST\", \"PUT\"]:\n",
    "        data = urllib.parse.urlencode(params).encode('utf-8')\n",
    "        headers.setdefault(\"Content-Type\", \"application/x-www-form-urlencoded\")\n",
    "\n",
    "    # 构建请求对象\n",
    "    req = urllib.request.Request(\n",
    "        url=url,\n",
    "        data=data,\n",
    "        headers=headers,\n",
    "        method=method.upper()\n",
    "    )\n",
    "\n",
    "    try:\n",
    "        # 发送请求（网页1/2基础）\n",
    "        with urllib.request.urlopen(req, timeout=timeout) as response:\n",
    "            return response.read().decode('utf-8')\n",
    "    except urllib.error.HTTPError as e:\n",
    "        return f\"HTTP Error {e.code}: {e.reason}\"\n",
    "    except urllib.error.URLError as e:\n",
    "        return f\"URL Error: {e.reason}\"\n",
    "    except Exception as e:\n",
    "        return f\"Request failed: {str(e)}\""
   ],
   "metadata": {
    "collapsed": false,
    "ExecuteTime": {
     "end_time": "2025-03-16T10:34:35.091216200Z",
     "start_time": "2025-03-16T10:34:35.070121700Z"
    }
   },
   "id": "4d3028b25577b75b",
   "execution_count": 20
  },
  {
   "cell_type": "markdown",
   "source": [
    "## get请求示例"
   ],
   "metadata": {
    "collapsed": false
   },
   "id": "457f0d8b19d7a5f4"
  },
  {
   "cell_type": "code",
   "outputs": [],
   "source": [
    "# 简单GET请求\n",
    "result = fetch_html(\"https://www.baidu.com\")\n",
    "print(result[:200])  # 打印前200字符\n",
    "\n",
    "# 带参GET请求（参数自动拼接）\n",
    "search_params = {\"wd\": \"Python教程\", \"pn\": \"2\"}\n",
    "result = fetch_html(\"https://www.baidu.com/s\", params=search_params)"
   ],
   "metadata": {
    "collapsed": false
   },
   "id": "5f5836b7f8f7a416"
  },
  {
   "cell_type": "markdown",
   "source": [
    "## post请求示例"
   ],
   "metadata": {
    "collapsed": false
   },
   "id": "8d336205a868bce3"
  },
  {
   "cell_type": "code",
   "outputs": [],
   "source": [
    "# 模拟登录（表单提交）\n",
    "login_url = \"https://example.com/login\"\n",
    "post_data = {\n",
    "    \"username\": \"test_user\",\n",
    "    \"password\": \"secure_password\"\n",
    "}\n",
    "result = fetch_html(login_url, params=post_data, method=\"POST\")"
   ],
   "metadata": {
    "collapsed": false
   },
   "id": "bd971cdcfd57fef7"
  }
 ],
 "metadata": {
  "kernelspec": {
   "display_name": "Python 3",
   "language": "python",
   "name": "python3"
  },
  "language_info": {
   "codemirror_mode": {
    "name": "ipython",
    "version": 2
   },
   "file_extension": ".py",
   "mimetype": "text/x-python",
   "name": "python",
   "nbconvert_exporter": "python",
   "pygments_lexer": "ipython2",
   "version": "2.7.6"
  }
 },
 "nbformat": 4,
 "nbformat_minor": 5
}
